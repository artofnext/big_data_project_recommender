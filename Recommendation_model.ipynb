{
 "cells": [
  {
   "cell_type": "markdown",
   "id": "unlimited-quarter",
   "metadata": {},
   "source": [
    "# Recommendation Model\n",
    "This part aims to load previously prepared dataset, instantiate ASL model, make evaluations and save recomendations for some users"
   ]
  },
  {
   "cell_type": "code",
   "execution_count": 1,
   "id": "preliminary-appendix",
   "metadata": {},
   "outputs": [],
   "source": [
    "from pyspark.ml.recommendation import ALS\n",
    "from pyspark.ml.evaluation import RegressionEvaluator"
   ]
  },
  {
   "cell_type": "code",
   "execution_count": 2,
   "id": "renewable-republican",
   "metadata": {},
   "outputs": [],
   "source": [
    "# load dataset\n",
    "df_data = spark.read.load('preparedDataset.parquet')"
   ]
  },
  {
   "cell_type": "code",
   "execution_count": 3,
   "id": "described-laptop",
   "metadata": {},
   "outputs": [
    {
     "name": "stdout",
     "output_type": "stream",
     "text": [
      "root\n",
      " |-- event_type: integer (nullable = true)\n",
      " |-- user_id: integer (nullable = true)\n",
      " |-- product_id: integer (nullable = true)\n",
      "\n"
     ]
    }
   ],
   "source": [
    "df_data.printSchema()"
   ]
  },
  {
   "cell_type": "code",
   "execution_count": 4,
   "id": "wired-boards",
   "metadata": {},
   "outputs": [
    {
     "name": "stdout",
     "output_type": "stream",
     "text": [
      "3396744\n",
      "848904\n"
     ]
    }
   ],
   "source": [
    "# splitting dataset\n",
    "train,test=df_data.randomSplit(weights = [0.8,0.2], seed = 10)\n",
    "print(train.count())\n",
    "print(test.count())"
   ]
  },
  {
   "cell_type": "code",
   "execution_count": 5,
   "id": "accepting-least",
   "metadata": {},
   "outputs": [],
   "source": [
    "# set up a model\n",
    "recomend=ALS(\\\n",
    "    maxIter=3,\\\n",
    "    regParam=0.5,\\\n",
    "    implicitPrefs=True,\\\n",
    "    alpha=0.9,\\\n",
    "    rank=8,\\\n",
    "    userCol='user_id',\\\n",
    "    itemCol='product_id',\\\n",
    "    ratingCol='event_type',\\\n",
    "    nonnegative=True,\\\n",
    "    coldStartStrategy=\"drop\"\\\n",
    ")"
   ]
  },
  {
   "cell_type": "code",
   "execution_count": 6,
   "id": "intermediate-opportunity",
   "metadata": {},
   "outputs": [],
   "source": [
    "# train the model\n",
    "recomend_model=recomend.fit(train)"
   ]
  },
  {
   "cell_type": "code",
   "execution_count": 7,
   "id": "seventh-april",
   "metadata": {},
   "outputs": [],
   "source": [
    "# make predictions on test\n",
    "predicted_ratings=recomend_model.transform(test)"
   ]
  },
  {
   "cell_type": "code",
   "execution_count": 8,
   "id": "filled-promise",
   "metadata": {},
   "outputs": [],
   "source": [
    "# set up evaluator with Root Mean Square Error\n",
    "evaluator=RegressionEvaluator(metricName='rmse',predictionCol='prediction',labelCol='event_type')"
   ]
  },
  {
   "cell_type": "code",
   "execution_count": 9,
   "id": "careful-carroll",
   "metadata": {},
   "outputs": [
    {
     "name": "stdout",
     "output_type": "stream",
     "text": [
      "0.13261228899579972\n"
     ]
    }
   ],
   "source": [
    "# print the evaluation of predictions\n",
    "rmse=evaluator.evaluate(predicted_ratings)\n",
    "print(rmse)"
   ]
  },
  {
   "cell_type": "code",
   "execution_count": null,
   "id": "south-recording",
   "metadata": {},
   "outputs": [],
   "source": [
    "# save the ALS model\n",
    "recomend_model.write().overwrite().save(\"ALSRecommModel\")"
   ]
  },
  {
   "cell_type": "code",
   "execution_count": 23,
   "id": "raised-glasgow",
   "metadata": {},
   "outputs": [
    {
     "name": "stdout",
     "output_type": "stream",
     "text": [
      "+---------+\n",
      "|  user_id|\n",
      "+---------+\n",
      "|512475445|\n",
      "|512365995|\n",
      "|526731152|\n",
      "|513021392|\n",
      "|512505687|\n",
      "+---------+\n",
      "\n"
     ]
    }
   ],
   "source": [
    "# get list of users that have more events to make recommendations\n",
    "# for local environment use 2 - 5\n",
    "# for AWS use 1000 - 10000\n",
    "amountOfUsers = 5\n",
    "users = train.groupBy('user_id')\\\n",
    "                .count()\\\n",
    "                .distinct()\\\n",
    "                .orderBy('count',ascending=False)\\\n",
    "                .select(recomend.getUserCol())\\\n",
    "                .limit(amountOfUsers)\n",
    "users.show()"
   ]
  },
  {
   "cell_type": "code",
   "execution_count": 24,
   "id": "packed-comment",
   "metadata": {},
   "outputs": [],
   "source": [
    "# make recommendations\n",
    "# for local environment use 2 - 3\n",
    "# for AWS use 5 - 10\n",
    "amountOfItems = 5\n",
    "userSubsetRecs = recomend_model.recommendForUserSubset(users, amountOfItems)"
   ]
  },
  {
   "cell_type": "code",
   "execution_count": 25,
   "id": "native-resident",
   "metadata": {},
   "outputs": [
    {
     "name": "stdout",
     "output_type": "stream",
     "text": [
      "+---------+-----------------------------------------------------------------------------------------------------------------------------+\n",
      "|user_id  |recommendations                                                                                                              |\n",
      "+---------+-----------------------------------------------------------------------------------------------------------------------------+\n",
      "|513021392|[[1004870, 5.1943073E-4], [1004767, 4.3788424E-4], [1004856, 4.0432677E-4], [4804056, 3.0939886E-4], [1002524, 2.3378969E-4]]|\n",
      "|512475445|[[1002100, 0.0], [1002460, 0.0], [1002540, 0.0], [1002550, 0.0], [1003050, 0.0]]                                             |\n",
      "|512365995|[[1002100, 0.0], [1002460, 0.0], [1002540, 0.0], [1002550, 0.0], [1003050, 0.0]]                                             |\n",
      "|512505687|[[1002100, 0.0], [1002460, 0.0], [1002540, 0.0], [1002550, 0.0], [1003050, 0.0]]                                             |\n",
      "|526731152|[[1002100, 0.0], [1002460, 0.0], [1002540, 0.0], [1002550, 0.0], [1003050, 0.0]]                                             |\n",
      "+---------+-----------------------------------------------------------------------------------------------------------------------------+\n",
      "\n"
     ]
    }
   ],
   "source": [
    "userSubsetRecs.show(amountOfUsers, truncate=False)"
   ]
  },
  {
   "cell_type": "code",
   "execution_count": 26,
   "id": "infinite-whole",
   "metadata": {},
   "outputs": [],
   "source": [
    "# save to parquet file for further work\n",
    "users.write.mode(\"overwrite\").parquet(\"userList.parquet\")\n",
    "userSubsetRecs.write.mode(\"overwrite\").parquet(\"userSubsetRecs.parquet\")"
   ]
  },
  {
   "cell_type": "code",
   "execution_count": null,
   "id": "serious-bottom",
   "metadata": {},
   "outputs": [],
   "source": []
  }
 ],
 "metadata": {
  "kernelspec": {
   "display_name": "PySpark",
   "language": "python",
   "name": "pyspark"
  },
  "language_info": {
   "codemirror_mode": {
    "name": "ipython",
    "version": 3
   },
   "file_extension": ".py",
   "mimetype": "text/x-python",
   "name": "python",
   "nbconvert_exporter": "python",
   "pygments_lexer": "ipython3",
   "version": "3.8.5"
  }
 },
 "nbformat": 4,
 "nbformat_minor": 5
}
