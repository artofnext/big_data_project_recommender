{
 "cells": [
  {
   "cell_type": "markdown",
   "id": "stock-writer",
   "metadata": {},
   "source": [
    "# Data Preparation\n",
    "This part consist of data reading, analyzing, cleaning and saving for further work"
   ]
  },
  {
   "cell_type": "code",
   "execution_count": 1,
   "id": "filled-adjustment",
   "metadata": {},
   "outputs": [],
   "source": [
    "from pyspark.sql.types import StructType, StructField, StringType, IntegerType, LongType, DoubleType, TimestampType"
   ]
  },
  {
   "cell_type": "code",
   "execution_count": 2,
   "id": "successful-plate",
   "metadata": {},
   "outputs": [],
   "source": [
    "# creating the schema for dataset\n",
    "schema = StructType([ \\\n",
    "    StructField(\"event_time\",TimestampType(),True),\\\n",
    "    StructField(\"event_type\",StringType(),False),\\\n",
    "    StructField(\"product_id\",IntegerType(),True),\\\n",
    "    StructField(\"category_id\", LongType(), True),\\\n",
    "    StructField(\"category_code\", StringType(), True),\\\n",
    "    StructField(\"brand\", StringType(), True),\\\n",
    "    StructField(\"price\", DoubleType(), True),\\\n",
    "    StructField(\"user_id\", IntegerType(), True),\\\n",
    "    StructField(\"user_session\", StringType(), True),\\\n",
    "  ])"
   ]
  },
  {
   "cell_type": "code",
   "execution_count": 3,
   "id": "standing-murder",
   "metadata": {},
   "outputs": [],
   "source": [
    "# Read the dataset\n",
    "df=spark.read.csv('local_part.csv', schema=schema, inferSchema=True)"
   ]
  },
  {
   "cell_type": "code",
   "execution_count": 4,
   "id": "palestinian-sunday",
   "metadata": {},
   "outputs": [
    {
     "name": "stdout",
     "output_type": "stream",
     "text": [
      "root\n",
      " |-- event_time: timestamp (nullable = true)\n",
      " |-- event_type: string (nullable = true)\n",
      " |-- product_id: integer (nullable = true)\n",
      " |-- category_id: long (nullable = true)\n",
      " |-- category_code: string (nullable = true)\n",
      " |-- brand: string (nullable = true)\n",
      " |-- price: double (nullable = true)\n",
      " |-- user_id: integer (nullable = true)\n",
      " |-- user_session: string (nullable = true)\n",
      "\n"
     ]
    }
   ],
   "source": [
    "df.printSchema()"
   ]
  },
  {
   "cell_type": "code",
   "execution_count": 5,
   "id": "similar-departure",
   "metadata": {},
   "outputs": [
    {
     "name": "stdout",
     "output_type": "stream",
     "text": [
      "+-------------------+----------+----------+-------------------+--------------------+---------+------+---------+--------------------+\n",
      "|         event_time|event_type|product_id|        category_id|       category_code|    brand| price|  user_id|        user_session|\n",
      "+-------------------+----------+----------+-------------------+--------------------+---------+------+---------+--------------------+\n",
      "|2019-10-01 01:00:01|      view|   1307067|2053013558920217191|  computers.notebook|   lenovo|251.74|550050854|7c90fc70-0e80-459...|\n",
      "|2019-10-01 01:00:20|      view|   1003306|2053013555631882655|electronics.smart...|    apple|588.77|555446831|6ec635da-ea15-4a5...|\n",
      "|2019-10-01 01:00:25|      view|  27500014|2053013554692358509|                null|  redmond| 37.98|555217733|74d40a28-41f9-432...|\n",
      "|2019-10-01 01:00:31|      view|  28718079|2053013565362668491|  apparel.shoes.keds|  respect| 66.67|545323115|75fb5d0c-e907-429...|\n",
      "|2019-10-01 01:00:31|      view|   3900746|2053013552326770905|appliances.enviro...|    haier|102.38|555444559|98b88fa0-d8fa-4b9...|\n",
      "|2019-10-01 01:00:36|      view|  12712064|2053013553559896355|                null| triangle| 30.89|515454339|828dbd8e-8683-409...|\n",
      "|2019-10-01 01:00:41|      view|   1003141|2053013555631882655|electronics.smart...|    apple|382.97|551377651|ca11a570-47da-463...|\n",
      "|2019-10-01 01:00:46|      view|   4100126|2053013561218695907|                null|     sony|326.62|519885473|b70cb218-db90-401...|\n",
      "|2019-10-01 01:00:50|      view|  28717211|2053013565882762215|                null|  respect| 76.96|555447577|4337a670-6520-415...|\n",
      "|2019-10-01 01:01:08|      view|   1004659|2053013555631882655|electronics.smart...|  samsung|787.18|512558158|9a206ba2-37c7-435...|\n",
      "|2019-10-01 01:01:12|      view|  26500144|2053013563550729061|                null|  lucente|259.21|525856698|f72ea16b-4ec3-44f...|\n",
      "|2019-10-01 01:01:28|      view|   4300070|2053013552385491165|                null|  timberk| 38.59|544648245|bb8e28c8-d11f-428...|\n",
      "|2019-10-01 01:01:42|      view|   1004792|2053013555631882655|electronics.smart...|   xiaomi|456.45|513457407|d6f9a1f2-f96f-422...|\n",
      "|2019-10-01 01:01:42|      view|   1306631|2053013558920217191|  computers.notebook|       hp|580.89|550050854|7c90fc70-0e80-459...|\n",
      "|2019-10-01 01:01:44|      view|   1004321|2053013555631882655|electronics.smart...|   huawei|243.25|514336739|cccc58c1-4986-4d0...|\n",
      "|2019-10-01 01:01:47|      view|   1004545|2053013555631882655|electronics.smart...|   huawei|566.01|537918940|406c46ed-90a4-478...|\n",
      "|2019-10-01 01:01:50|      view|  28715758|2053013565069067197|  apparel.shoes.keds|  nexpero|107.85|555447570|99877fbe-d5a8-475...|\n",
      "|2019-10-01 01:01:58|      view|   4100274|2053013561218695907|                null|microsoft| 275.4|519885473|b70cb218-db90-401...|\n",
      "|2019-10-01 01:01:59|      view|   1004792|2053013555631882655|electronics.smart...|   xiaomi|456.45|516896785|4263d574-0b40-416...|\n",
      "|2019-10-01 01:02:05|      view|  26201000|2053013563693335403|                null|  lucente|106.31|555447748|b50d1ae8-1948-451...|\n",
      "+-------------------+----------+----------+-------------------+--------------------+---------+------+---------+--------------------+\n",
      "only showing top 20 rows\n",
      "\n"
     ]
    }
   ],
   "source": [
    "df.show()"
   ]
  },
  {
   "cell_type": "code",
   "execution_count": 6,
   "id": "possible-expression",
   "metadata": {},
   "outputs": [
    {
     "data": {
      "text/plain": [
       "1390837"
      ]
     },
     "execution_count": 6,
     "metadata": {},
     "output_type": "execute_result"
    }
   ],
   "source": [
    "# number of unic users\n",
    "df.groupBy('user_id').count().distinct().count()"
   ]
  },
  {
   "cell_type": "code",
   "execution_count": 7,
   "id": "express-participant",
   "metadata": {},
   "outputs": [
    {
     "name": "stdout",
     "output_type": "stream",
     "text": [
      "+---------+-----+\n",
      "|user_id  |count|\n",
      "+---------+-----+\n",
      "|512475445|806  |\n",
      "|512365995|421  |\n",
      "|526731152|306  |\n",
      "|513021392|293  |\n",
      "|512505687|283  |\n",
      "|546270188|258  |\n",
      "|546159478|257  |\n",
      "|516308435|253  |\n",
      "|514649263|240  |\n",
      "|551211823|238  |\n",
      "+---------+-----+\n",
      "only showing top 10 rows\n",
      "\n"
     ]
    }
   ],
   "source": [
    "# Users events count\n",
    "df.groupBy('user_id').count().orderBy('count',ascending=False).show(10,False)"
   ]
  },
  {
   "cell_type": "code",
   "execution_count": 8,
   "id": "fourth-market",
   "metadata": {},
   "outputs": [
    {
     "name": "stdout",
     "output_type": "stream",
     "text": [
      "+-------+------+\n",
      "|brand  |count |\n",
      "+-------+------+\n",
      "|null   |610994|\n",
      "|samsung|527583|\n",
      "|apple  |411810|\n",
      "|xiaomi |308436|\n",
      "|huawei |110888|\n",
      "|lucente|65673 |\n",
      "|lg     |56602 |\n",
      "|bosch  |56118 |\n",
      "|oppo   |48640 |\n",
      "|sony   |45535 |\n",
      "+-------+------+\n",
      "only showing top 10 rows\n",
      "\n"
     ]
    }
   ],
   "source": [
    "# brands events count\n",
    "df.groupBy('brand').count().orderBy('count',ascending=False).show(10,False)"
   ]
  },
  {
   "cell_type": "code",
   "execution_count": 9,
   "id": "brown-millennium",
   "metadata": {},
   "outputs": [
    {
     "name": "stdout",
     "output_type": "stream",
     "text": [
      "+----------+-------+\n",
      "|event_type|count  |\n",
      "+----------+-------+\n",
      "|view      |4078750|\n",
      "|cart      |92702  |\n",
      "|purchase  |74196  |\n",
      "+----------+-------+\n",
      "\n"
     ]
    }
   ],
   "source": [
    "# events count\n",
    "df.groupBy('event_type').count().orderBy('count',ascending=False).show(10,False)"
   ]
  },
  {
   "cell_type": "code",
   "execution_count": 10,
   "id": "based-affect",
   "metadata": {},
   "outputs": [
    {
     "name": "stderr",
     "output_type": "stream",
     "text": [
      "/opt/spark/python/pyspark/sql/dataframe.py:1894: UserWarning: to_replace is a dict and value is not None. value will be ignored.\n",
      "  warnings.warn(\"to_replace is a dict and value is not None. value will be ignored.\")\n"
     ]
    },
    {
     "name": "stdout",
     "output_type": "stream",
     "text": [
      "+----------+---------+----------+\n",
      "|event_type|  user_id|product_id|\n",
      "+----------+---------+----------+\n",
      "|         0|550050854|   1307067|\n",
      "|         0|555446831|   1003306|\n",
      "|         0|555217733|  27500014|\n",
      "|         0|545323115|  28718079|\n",
      "|         0|555444559|   3900746|\n",
      "|         0|515454339|  12712064|\n",
      "|         0|551377651|   1003141|\n",
      "|         0|519885473|   4100126|\n",
      "|         0|555447577|  28717211|\n",
      "|         0|512558158|   1004659|\n",
      "|         0|525856698|  26500144|\n",
      "|         0|544648245|   4300070|\n",
      "|         0|513457407|   1004792|\n",
      "|         0|550050854|   1306631|\n",
      "|         0|514336739|   1004321|\n",
      "|         0|537918940|   1004545|\n",
      "|         0|555447570|  28715758|\n",
      "|         0|519885473|   4100274|\n",
      "|         0|516896785|   1004792|\n",
      "|         0|555447748|  26201000|\n",
      "+----------+---------+----------+\n",
      "only showing top 20 rows\n",
      "\n"
     ]
    }
   ],
   "source": [
    "# for using Collaborative Filtering for Implicit Feedback Datasets,\n",
    "# convert event_type to raiting such us purchase = 1, view and chart = 0\n",
    "# so if user bought item, he \"rated\" it\n",
    "dictionary = {\"purchase\": \"1\", \"view\": \"0\", \"cart\": \"0\"}\n",
    "df2 = df.na.replace(dictionary,\"event_type\")\n",
    "\n",
    "# cast to integer\n",
    "df_data = df2.select(df2[\"event_type\"].cast(IntegerType()), df2[\"user_id\"], df2[\"product_id\"]) \n",
    "df_data.show()"
   ]
  },
  {
   "cell_type": "code",
   "execution_count": 14,
   "id": "fifteen-female",
   "metadata": {},
   "outputs": [],
   "source": [
    "# drop rows with nulls\n",
    "df_data = df_data.na.drop()"
   ]
  },
  {
   "cell_type": "code",
   "execution_count": 15,
   "id": "equipped-charlotte",
   "metadata": {},
   "outputs": [],
   "source": [
    "# save to parquet file for further work\n",
    "df_data.write.mode(\"overwrite\").parquet(\"preparedDataset.parquet\")"
   ]
  },
  {
   "cell_type": "code",
   "execution_count": 16,
   "id": "formal-breast",
   "metadata": {},
   "outputs": [
    {
     "name": "stdout",
     "output_type": "stream",
     "text": [
      "total 1115156\r\n",
      "drwxrwxr-x  6 big big      4096 May 21 15:18 .\r\n",
      "drwxr-xr-x 33 big big      4096 May 12 14:59 ..\r\n",
      "-rw-rw-r--  1 big big     13414 May 21 15:16 Data_Preparation.ipynb\r\n",
      "drwxrwxr-x  8 big big      4096 May 21 14:34 .git\r\n",
      "-rw-rw-r--  1 big big        22 May 21 14:33 .gitignore\r\n",
      "drwxrwxr-x  2 big big      4096 May 21 14:41 .ipynb_checkpoints\r\n",
      "-rw-rw-r--  1 big big 570895494 May  8 17:13 local_part.csv\r\n",
      "-rw-r--r--  1 big big 171002105 May 11 21:13 local_test.csv\r\n",
      "-rw-r--r--  1 big big 399893389 May 11 21:13 local_train.csv\r\n",
      "-rw-rw-r--  1 big big      3716 May 12 22:05 partial_data.ipynb\r\n",
      "drwxr-xr-x  2 big big      4096 May 21 15:15 preparedDataset.parquet\r\n",
      "-rw-rw-r--  1 big big      3566 May 21 15:18 Recommendation_model.ipynb\r\n",
      "-rw-rw-r--  1 big big     53988 May 21 13:06 Recommender.ipynb\r\n",
      "drwxr-xr-x  2 big big      4096 May 21 10:21 userSubsetRecs.parquet\r\n"
     ]
    }
   ],
   "source": [
    "! ls -la"
   ]
  },
  {
   "cell_type": "code",
   "execution_count": null,
   "id": "missing-shape",
   "metadata": {},
   "outputs": [],
   "source": []
  }
 ],
 "metadata": {
  "kernelspec": {
   "display_name": "PySpark",
   "language": "python",
   "name": "pyspark"
  },
  "language_info": {
   "codemirror_mode": {
    "name": "ipython",
    "version": 3
   },
   "file_extension": ".py",
   "mimetype": "text/x-python",
   "name": "python",
   "nbconvert_exporter": "python",
   "pygments_lexer": "ipython3",
   "version": "3.8.5"
  }
 },
 "nbformat": 4,
 "nbformat_minor": 5
}
