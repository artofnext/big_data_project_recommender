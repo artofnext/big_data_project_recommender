{
 "cells": [
  {
   "cell_type": "markdown",
   "id": "gentle-fellow",
   "metadata": {},
   "source": [
    "# Make Recommendations"
   ]
  },
  {
   "cell_type": "code",
   "execution_count": 1,
   "id": "juvenile-compensation",
   "metadata": {},
   "outputs": [],
   "source": [
    "from pyspark.sql.functions import rand"
   ]
  },
  {
   "cell_type": "code",
   "execution_count": 2,
   "id": "modern-string",
   "metadata": {},
   "outputs": [],
   "source": [
    "# load dataset\n",
    "users = spark.read.load('userList.parquet')\n",
    "userSubsetRecs = spark.read.load('userSubsetRecs.parquet')"
   ]
  },
  {
   "cell_type": "code",
   "execution_count": 14,
   "id": "advised-chancellor",
   "metadata": {},
   "outputs": [
    {
     "name": "stdout",
     "output_type": "stream",
     "text": [
      "545889085\n"
     ]
    }
   ],
   "source": [
    "#userRand = users.orderBy(rand()).limit(1).collect()[0][0]\n",
    "#print(userRand)"
   ]
  },
  {
   "cell_type": "code",
   "execution_count": 15,
   "id": "excellent-mention",
   "metadata": {},
   "outputs": [
    {
     "name": "stdout",
     "output_type": "stream",
     "text": [
      "+---------+----------------------------------------------------------------------------------------------------------------------------+\n",
      "|user_id  |recommendations                                                                                                             |\n",
      "+---------+----------------------------------------------------------------------------------------------------------------------------+\n",
      "|519637521|[[1004856, 5.6967617E-4], [1002544, 4.926107E-4], [5100563, 4.3728732E-4], [4804056, 4.1085843E-4], [1004836, 2.8386372E-4]]|\n",
      "+---------+----------------------------------------------------------------------------------------------------------------------------+\n",
      "\n"
     ]
    }
   ],
   "source": [
    "# show recommendations for user\n",
    "user_id=users.orderBy(rand()).limit(1).collect()[0][0]\n",
    "userSubsetRecs.filter(userSubsetRecs.user_id == user_id).show(1, truncate=False)"
   ]
  },
  {
   "cell_type": "code",
   "execution_count": null,
   "id": "swiss-humanitarian",
   "metadata": {},
   "outputs": [],
   "source": []
  }
 ],
 "metadata": {
  "kernelspec": {
   "display_name": "PySpark",
   "language": "python",
   "name": "pyspark"
  },
  "language_info": {
   "codemirror_mode": {
    "name": "ipython",
    "version": 3
   },
   "file_extension": ".py",
   "mimetype": "text/x-python",
   "name": "python",
   "nbconvert_exporter": "python",
   "pygments_lexer": "ipython3",
   "version": "3.8.5"
  }
 },
 "nbformat": 4,
 "nbformat_minor": 5
}
