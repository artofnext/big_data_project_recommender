{
 "cells": [
  {
   "cell_type": "code",
   "execution_count": null,
   "id": "marked-logic",
   "metadata": {},
   "outputs": [],
   "source": [
    "from pyspark.sql.functions import rand\n",
    "from pyspark.ml.feature import StringIndexer, IndexToString\n",
    "from pyspark.ml.recommendation import ALS\n",
    "from pyspark.ml.evaluation import RegressionEvaluator\n",
    "from pyspark.sql.functions import col, lit"
   ]
  },
  {
   "cell_type": "code",
   "execution_count": 1,
   "id": "literary-pastor",
   "metadata": {},
   "outputs": [
    {
     "name": "stdout",
     "output_type": "stream",
     "text": [
      "total 1856000\r\n",
      "drwxrwxr-x  4 big big      4096 May 11 21:44 .\r\n",
      "drwxr-xr-x 32 big big      4096 May  9 18:30 ..\r\n",
      "-rw-rw-r--  1 big big 758702080 May 11 21:27 2019-Oct.zip\r\n",
      "drwxrwxr-x  8 big big      4096 May 11 21:08 .git\r\n",
      "-rw-rw-r--  1 big big         6 May  8 20:47 .gitignore\r\n",
      "drwxrwxr-x  2 big big      4096 May 11 21:44 .ipynb_checkpoints\r\n",
      "-rw-rw-r--  1 big big 570895494 May  8 17:13 local_part.csv\r\n",
      "-rw-r--r--  1 big big 171002105 May 11 21:13 local_test.csv\r\n",
      "-rw-r--r--  1 big big 399893389 May 11 21:13 local_train.csv\r\n",
      "-rw-rw-r--  1 big big      3716 May 11 21:14 Preare_data.ipynb\r\n",
      "-rw-rw-r--  1 big big        72 May 11 21:43 Recommender.ipynb\r\n"
     ]
    }
   ],
   "source": [
    "! ls -la"
   ]
  },
  {
   "cell_type": "code",
   "execution_count": 7,
   "id": "continuing-battlefield",
   "metadata": {},
   "outputs": [],
   "source": [
    "df=spark.read.csv('local_train.csv',inferSchema=True) # Read the dataset"
   ]
  },
  {
   "cell_type": "code",
   "execution_count": 8,
   "id": "celtic-timeline",
   "metadata": {},
   "outputs": [
    {
     "name": "stdout",
     "output_type": "stream",
     "text": [
      "root\n",
      " |-- _c0: string (nullable = true)\n",
      " |-- _c1: string (nullable = true)\n",
      " |-- _c2: integer (nullable = true)\n",
      " |-- _c3: long (nullable = true)\n",
      " |-- _c4: string (nullable = true)\n",
      " |-- _c5: string (nullable = true)\n",
      " |-- _c6: double (nullable = true)\n",
      " |-- _c7: integer (nullable = true)\n",
      " |-- _c8: string (nullable = true)\n",
      "\n"
     ]
    }
   ],
   "source": [
    "df.printSchema()"
   ]
  },
  {
   "cell_type": "code",
   "execution_count": 4,
   "id": "recorded-salad",
   "metadata": {},
   "outputs": [
    {
     "name": "stdout",
     "output_type": "stream",
     "text": [
      "+--------------------+----+--------+-------------------+--------------------+---------+------+---------+--------------------+\n",
      "|                 _c0| _c1|     _c2|                _c3|                 _c4|      _c5|   _c6|      _c7|                 _c8|\n",
      "+--------------------+----+--------+-------------------+--------------------+---------+------+---------+--------------------+\n",
      "|2019-10-01 00:00:...|view| 1307067|2053013558920217191|  computers.notebook|   lenovo|251.74|550050854|7c90fc70-0e80-459...|\n",
      "|2019-10-01 00:00:...|view| 1003306|2053013555631882655|electronics.smart...|    apple|588.77|555446831|6ec635da-ea15-4a5...|\n",
      "|2019-10-01 00:00:...|view|27500014|2053013554692358509|                null|  redmond| 37.98|555217733|74d40a28-41f9-432...|\n",
      "|2019-10-01 00:00:...|view|12712064|2053013553559896355|                null| triangle| 30.89|515454339|828dbd8e-8683-409...|\n",
      "|2019-10-01 00:00:...|view| 1003141|2053013555631882655|electronics.smart...|    apple|382.97|551377651|ca11a570-47da-463...|\n",
      "|2019-10-01 00:00:...|view| 4100126|2053013561218695907|                null|     sony|326.62|519885473|b70cb218-db90-401...|\n",
      "|2019-10-01 00:00:...|view|28717211|2053013565882762215|                null|  respect| 76.96|555447577|4337a670-6520-415...|\n",
      "|2019-10-01 00:01:...|view| 1004659|2053013555631882655|electronics.smart...|  samsung|787.18|512558158|9a206ba2-37c7-435...|\n",
      "|2019-10-01 00:01:...|view| 4300070|2053013552385491165|                null|  timberk| 38.59|544648245|bb8e28c8-d11f-428...|\n",
      "|2019-10-01 00:01:...|view| 1004792|2053013555631882655|electronics.smart...|   xiaomi|456.45|513457407|d6f9a1f2-f96f-422...|\n",
      "|2019-10-01 00:01:...|view| 1306631|2053013558920217191|  computers.notebook|       hp|580.89|550050854|7c90fc70-0e80-459...|\n",
      "|2019-10-01 00:01:...|view| 1004321|2053013555631882655|electronics.smart...|   huawei|243.25|514336739|cccc58c1-4986-4d0...|\n",
      "|2019-10-01 00:01:...|view| 4100274|2053013561218695907|                null|microsoft|275.40|519885473|b70cb218-db90-401...|\n",
      "|2019-10-01 00:01:...|view| 1004792|2053013555631882655|electronics.smart...|   xiaomi|456.45|516896785|4263d574-0b40-416...|\n",
      "|2019-10-01 00:02:...|view|26201000|2053013563693335403|                null|  lucente|106.31|555447748|b50d1ae8-1948-451...|\n",
      "|2019-10-01 00:02:...|view|26201858|2053013563693335403|                null|     null|235.01|548449430|99617d1c-1b5a-42f...|\n",
      "|2019-10-01 00:02:...|view|13100083|2053013553526341921|                null|     skad|223.94|518553316|e056d030-e659-461...|\n",
      "|2019-10-01 00:02:...|view|50600002|2134905044833666047|auto.accessories....|     null| 89.81|514933060|2f36c9e1-b1e1-4b5...|\n",
      "|2019-10-01 00:03:...|view| 1004856|2053013555631882655|electronics.smart...|  samsung|130.76|543272936|8187d148-3c41-46d...|\n",
      "|2019-10-01 00:03:...|view|28718079|2053013565362668491|  apparel.shoes.keds|  respect| 66.67|545323115|75fb5d0c-e907-429...|\n",
      "+--------------------+----+--------+-------------------+--------------------+---------+------+---------+--------------------+\n",
      "only showing top 20 rows\n",
      "\n"
     ]
    }
   ],
   "source": [
    "df.show()"
   ]
  },
  {
   "cell_type": "code",
   "execution_count": 9,
   "id": "talented-buyer",
   "metadata": {},
   "outputs": [
    {
     "name": "stdout",
     "output_type": "stream",
     "text": [
      "+---------+-----+\n",
      "|_c7      |count|\n",
      "+---------+-----+\n",
      "|512475445|554  |\n",
      "|512365995|301  |\n",
      "|526731152|227  |\n",
      "|513021392|207  |\n",
      "|546159478|193  |\n",
      "|512505687|192  |\n",
      "|546270188|182  |\n",
      "|516308435|177  |\n",
      "|514649263|171  |\n",
      "|551211823|165  |\n",
      "+---------+-----+\n",
      "only showing top 10 rows\n",
      "\n"
     ]
    }
   ],
   "source": [
    "# Users actions\n",
    "df.groupBy('_c7').count().orderBy('count',ascending=False).show(10,False)"
   ]
  },
  {
   "cell_type": "code",
   "execution_count": 10,
   "id": "smoking-syndication",
   "metadata": {},
   "outputs": [
    {
     "name": "stdout",
     "output_type": "stream",
     "text": [
      "+-------+------+\n",
      "|_c5    |count |\n",
      "+-------+------+\n",
      "|null   |427856|\n",
      "|samsung|369262|\n",
      "|apple  |288448|\n",
      "|xiaomi |216395|\n",
      "|huawei |77701 |\n",
      "|lucente|46132 |\n",
      "|lg     |39563 |\n",
      "|bosch  |39530 |\n",
      "|oppo   |33985 |\n",
      "|sony   |31908 |\n",
      "+-------+------+\n",
      "only showing top 10 rows\n",
      "\n"
     ]
    }
   ],
   "source": [
    "# brands actions\n",
    "df.groupBy('_c5').count().orderBy('count',ascending=False).show(10,False)"
   ]
  },
  {
   "cell_type": "code",
   "execution_count": null,
   "id": "supposed-governor",
   "metadata": {},
   "outputs": [],
   "source": []
  }
 ],
 "metadata": {
  "kernelspec": {
   "display_name": "PySpark",
   "language": "python",
   "name": "pyspark"
  },
  "language_info": {
   "codemirror_mode": {
    "name": "ipython",
    "version": 3
   },
   "file_extension": ".py",
   "mimetype": "text/x-python",
   "name": "python",
   "nbconvert_exporter": "python",
   "pygments_lexer": "ipython3",
   "version": "3.8.5"
  }
 },
 "nbformat": 4,
 "nbformat_minor": 5
}
