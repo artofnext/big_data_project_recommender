{
 "cells": [
  {
   "cell_type": "code",
   "execution_count": 2,
   "id": "marked-logic",
   "metadata": {},
   "outputs": [],
   "source": [
    "from pyspark.sql.functions import rand\n",
    "from pyspark.ml.feature import StringIndexer, IndexToString\n",
    "from pyspark.ml.recommendation import ALS\n",
    "from pyspark.ml.evaluation import RegressionEvaluator\n",
    "from pyspark.sql.functions import col, lit\n",
    "from pyspark.sql.types import StructType, StructField, StringType, IntegerType, LongType, DoubleType, TimestampType"
   ]
  },
  {
   "cell_type": "code",
   "execution_count": 3,
   "id": "literary-pastor",
   "metadata": {},
   "outputs": [
    {
     "name": "stdout",
     "output_type": "stream",
     "text": [
      "total 1115132\r\n",
      "drwxrwxr-x  6 big big      4096 May 15 21:12 .\r\n",
      "drwxr-xr-x 33 big big      4096 May 12 14:59 ..\r\n",
      "-rw-rw-r--  1 big big       662 May 15 17:03 derby.log\r\n",
      "drwxrwxr-x  8 big big      4096 May 15 21:05 .git\r\n",
      "-rw-rw-r--  1 big big         6 May  8 20:47 .gitignore\r\n",
      "drwxrwxr-x  2 big big      4096 May 11 21:44 .ipynb_checkpoints\r\n",
      "-rw-rw-r--  1 big big 570895494 May  8 17:13 local_part.csv\r\n",
      "-rw-r--r--  1 big big 171002105 May 11 21:13 local_test.csv\r\n",
      "-rw-r--r--  1 big big 399893389 May 11 21:13 local_train.csv\r\n",
      "drwxrwxr-x  3 big big      4096 May 15 20:46 metastore_db\r\n",
      "-rw-rw-r--  1 big big      3716 May 12 22:05 Preare_data.ipynb\r\n",
      "-rw-rw-r--  1 big big     48031 May 15 21:12 Recommender.ipynb\r\n",
      "drwxr-xr-x  3 big big      4096 May 15 20:08 spark-warehouse\r\n"
     ]
    }
   ],
   "source": [
    "! ls -la"
   ]
  },
  {
   "cell_type": "code",
   "execution_count": 4,
   "id": "amended-behalf",
   "metadata": {},
   "outputs": [],
   "source": [
    "# all field types reference\n",
    "#__all__ = [\n",
    "#   \"DataType\", \"NullType\", \"StringType\", \"BinaryType\", \"BooleanType\", \"DateType\",\n",
    "#   \"TimestampType\", \"DecimalType\", \"DoubleType\", \"FloatType\", \"ByteType\", \"IntegerType\",\n",
    "#   \"LongType\", \"ShortType\", \"ArrayType\", \"MapType\", \"StructField\", \"StructType\"]"
   ]
  },
  {
   "cell_type": "code",
   "execution_count": 5,
   "id": "cooperative-fellowship",
   "metadata": {},
   "outputs": [],
   "source": [
    "schema = StructType([ \\\n",
    "    StructField(\"event_time\",TimestampType(),True),\\\n",
    "    StructField(\"event_type\",StringType(),False),\\\n",
    "    StructField(\"product_id\",IntegerType(),True),\\\n",
    "    StructField(\"category_id\", LongType(), True),\\\n",
    "    StructField(\"category_code\", StringType(), True),\\\n",
    "    StructField(\"brand\", StringType(), True),\\\n",
    "    StructField(\"price\", DoubleType(), True),\\\n",
    "    StructField(\"user_id\", IntegerType(), True),\\\n",
    "    StructField(\"user_session\", StringType(), True),\\\n",
    "  ])"
   ]
  },
  {
   "cell_type": "code",
   "execution_count": 6,
   "id": "continuing-battlefield",
   "metadata": {},
   "outputs": [],
   "source": [
    "df=spark.read.csv('local_part.csv', schema=schema, inferSchema=True) # Read the dataset"
   ]
  },
  {
   "cell_type": "code",
   "execution_count": null,
   "id": "healthy-silly",
   "metadata": {},
   "outputs": [],
   "source": []
  },
  {
   "cell_type": "code",
   "execution_count": 7,
   "id": "celtic-timeline",
   "metadata": {},
   "outputs": [
    {
     "name": "stdout",
     "output_type": "stream",
     "text": [
      "root\n",
      " |-- event_time: timestamp (nullable = true)\n",
      " |-- event_type: string (nullable = true)\n",
      " |-- product_id: integer (nullable = true)\n",
      " |-- category_id: long (nullable = true)\n",
      " |-- category_code: string (nullable = true)\n",
      " |-- brand: string (nullable = true)\n",
      " |-- price: double (nullable = true)\n",
      " |-- user_id: integer (nullable = true)\n",
      " |-- user_session: string (nullable = true)\n",
      "\n"
     ]
    }
   ],
   "source": [
    "df.printSchema()"
   ]
  },
  {
   "cell_type": "code",
   "execution_count": 8,
   "id": "recorded-salad",
   "metadata": {},
   "outputs": [
    {
     "name": "stdout",
     "output_type": "stream",
     "text": [
      "+-------------------+----------+----------+-------------------+--------------------+---------+------+---------+--------------------+\n",
      "|         event_time|event_type|product_id|        category_id|       category_code|    brand| price|  user_id|        user_session|\n",
      "+-------------------+----------+----------+-------------------+--------------------+---------+------+---------+--------------------+\n",
      "|2019-10-01 01:00:01|      view|   1307067|2053013558920217191|  computers.notebook|   lenovo|251.74|550050854|7c90fc70-0e80-459...|\n",
      "|2019-10-01 01:00:20|      view|   1003306|2053013555631882655|electronics.smart...|    apple|588.77|555446831|6ec635da-ea15-4a5...|\n",
      "|2019-10-01 01:00:25|      view|  27500014|2053013554692358509|                null|  redmond| 37.98|555217733|74d40a28-41f9-432...|\n",
      "|2019-10-01 01:00:31|      view|  28718079|2053013565362668491|  apparel.shoes.keds|  respect| 66.67|545323115|75fb5d0c-e907-429...|\n",
      "|2019-10-01 01:00:31|      view|   3900746|2053013552326770905|appliances.enviro...|    haier|102.38|555444559|98b88fa0-d8fa-4b9...|\n",
      "|2019-10-01 01:00:36|      view|  12712064|2053013553559896355|                null| triangle| 30.89|515454339|828dbd8e-8683-409...|\n",
      "|2019-10-01 01:00:41|      view|   1003141|2053013555631882655|electronics.smart...|    apple|382.97|551377651|ca11a570-47da-463...|\n",
      "|2019-10-01 01:00:46|      view|   4100126|2053013561218695907|                null|     sony|326.62|519885473|b70cb218-db90-401...|\n",
      "|2019-10-01 01:00:50|      view|  28717211|2053013565882762215|                null|  respect| 76.96|555447577|4337a670-6520-415...|\n",
      "|2019-10-01 01:01:08|      view|   1004659|2053013555631882655|electronics.smart...|  samsung|787.18|512558158|9a206ba2-37c7-435...|\n",
      "|2019-10-01 01:01:12|      view|  26500144|2053013563550729061|                null|  lucente|259.21|525856698|f72ea16b-4ec3-44f...|\n",
      "|2019-10-01 01:01:28|      view|   4300070|2053013552385491165|                null|  timberk| 38.59|544648245|bb8e28c8-d11f-428...|\n",
      "|2019-10-01 01:01:42|      view|   1004792|2053013555631882655|electronics.smart...|   xiaomi|456.45|513457407|d6f9a1f2-f96f-422...|\n",
      "|2019-10-01 01:01:42|      view|   1306631|2053013558920217191|  computers.notebook|       hp|580.89|550050854|7c90fc70-0e80-459...|\n",
      "|2019-10-01 01:01:44|      view|   1004321|2053013555631882655|electronics.smart...|   huawei|243.25|514336739|cccc58c1-4986-4d0...|\n",
      "|2019-10-01 01:01:47|      view|   1004545|2053013555631882655|electronics.smart...|   huawei|566.01|537918940|406c46ed-90a4-478...|\n",
      "|2019-10-01 01:01:50|      view|  28715758|2053013565069067197|  apparel.shoes.keds|  nexpero|107.85|555447570|99877fbe-d5a8-475...|\n",
      "|2019-10-01 01:01:58|      view|   4100274|2053013561218695907|                null|microsoft| 275.4|519885473|b70cb218-db90-401...|\n",
      "|2019-10-01 01:01:59|      view|   1004792|2053013555631882655|electronics.smart...|   xiaomi|456.45|516896785|4263d574-0b40-416...|\n",
      "|2019-10-01 01:02:05|      view|  26201000|2053013563693335403|                null|  lucente|106.31|555447748|b50d1ae8-1948-451...|\n",
      "+-------------------+----------+----------+-------------------+--------------------+---------+------+---------+--------------------+\n",
      "only showing top 20 rows\n",
      "\n"
     ]
    }
   ],
   "source": [
    "df.show()"
   ]
  },
  {
   "cell_type": "code",
   "execution_count": 9,
   "id": "talented-buyer",
   "metadata": {},
   "outputs": [
    {
     "name": "stdout",
     "output_type": "stream",
     "text": [
      "+---------+-----+\n",
      "|user_id  |count|\n",
      "+---------+-----+\n",
      "|512475445|806  |\n",
      "|512365995|421  |\n",
      "|526731152|306  |\n",
      "|513021392|293  |\n",
      "|512505687|283  |\n",
      "|546270188|258  |\n",
      "|546159478|257  |\n",
      "|516308435|253  |\n",
      "|514649263|240  |\n",
      "|551211823|238  |\n",
      "+---------+-----+\n",
      "only showing top 10 rows\n",
      "\n"
     ]
    }
   ],
   "source": [
    "# Users events count\n",
    "df.groupBy('user_id').count().orderBy('count',ascending=False).show(10,False)"
   ]
  },
  {
   "cell_type": "code",
   "execution_count": 10,
   "id": "together-diving",
   "metadata": {},
   "outputs": [
    {
     "name": "stdout",
     "output_type": "stream",
     "text": [
      "+----------+-----+\n",
      "|event_type|count|\n",
      "+----------+-----+\n",
      "|view      |806  |\n",
      "+----------+-----+\n",
      "\n"
     ]
    }
   ],
   "source": [
    "df.filter(df.user_id == 512475445).groupBy('event_type').count().orderBy('count',ascending=False).show(10,False)"
   ]
  },
  {
   "cell_type": "code",
   "execution_count": null,
   "id": "legal-arctic",
   "metadata": {},
   "outputs": [],
   "source": []
  },
  {
   "cell_type": "code",
   "execution_count": 11,
   "id": "smoking-syndication",
   "metadata": {},
   "outputs": [
    {
     "name": "stdout",
     "output_type": "stream",
     "text": [
      "+-------+------+\n",
      "|brand  |count |\n",
      "+-------+------+\n",
      "|null   |610994|\n",
      "|samsung|527583|\n",
      "|apple  |411810|\n",
      "|xiaomi |308436|\n",
      "|huawei |110888|\n",
      "|lucente|65673 |\n",
      "|lg     |56602 |\n",
      "|bosch  |56118 |\n",
      "|oppo   |48640 |\n",
      "|sony   |45535 |\n",
      "+-------+------+\n",
      "only showing top 10 rows\n",
      "\n"
     ]
    }
   ],
   "source": [
    "# brands events count\n",
    "df.groupBy('brand').count().orderBy('count',ascending=False).show(10,False)"
   ]
  },
  {
   "cell_type": "code",
   "execution_count": 12,
   "id": "supposed-governor",
   "metadata": {},
   "outputs": [
    {
     "name": "stdout",
     "output_type": "stream",
     "text": [
      "+----------+-------+\n",
      "|event_type|count  |\n",
      "+----------+-------+\n",
      "|view      |4078750|\n",
      "|cart      |92702  |\n",
      "|purchase  |74196  |\n",
      "+----------+-------+\n",
      "\n"
     ]
    }
   ],
   "source": [
    "# events count\n",
    "df.groupBy('event_type').count().orderBy('count',ascending=False).show(10,False)"
   ]
  },
  {
   "cell_type": "code",
   "execution_count": 13,
   "id": "international-brand",
   "metadata": {},
   "outputs": [
    {
     "name": "stderr",
     "output_type": "stream",
     "text": [
      "/opt/spark/python/pyspark/sql/dataframe.py:1894: UserWarning: to_replace is a dict and value is not None. value will be ignored.\n",
      "  warnings.warn(\"to_replace is a dict and value is not None. value will be ignored.\")\n"
     ]
    },
    {
     "name": "stdout",
     "output_type": "stream",
     "text": [
      "+----------+---------+----------+\n",
      "|event_type|  user_id|product_id|\n",
      "+----------+---------+----------+\n",
      "|         0|550050854|   1307067|\n",
      "|         0|555446831|   1003306|\n",
      "|         0|555217733|  27500014|\n",
      "|         0|545323115|  28718079|\n",
      "|         0|555444559|   3900746|\n",
      "|         0|515454339|  12712064|\n",
      "|         0|551377651|   1003141|\n",
      "|         0|519885473|   4100126|\n",
      "|         0|555447577|  28717211|\n",
      "|         0|512558158|   1004659|\n",
      "|         0|525856698|  26500144|\n",
      "|         0|544648245|   4300070|\n",
      "|         0|513457407|   1004792|\n",
      "|         0|550050854|   1306631|\n",
      "|         0|514336739|   1004321|\n",
      "|         0|537918940|   1004545|\n",
      "|         0|555447570|  28715758|\n",
      "|         0|519885473|   4100274|\n",
      "|         0|516896785|   1004792|\n",
      "|         0|555447748|  26201000|\n",
      "+----------+---------+----------+\n",
      "only showing top 20 rows\n",
      "\n"
     ]
    }
   ],
   "source": [
    "# convert event_type to raiting such us purchase = 1, view and chart = 0\n",
    "# so if user bought item, he \"rated\" it\n",
    "dictionary = {\"purchase\": \"1\", \"view\": \"0\", \"cart\": \"0\"}\n",
    "df2 = df.na.replace(dictionary,\"event_type\")\n",
    "#df2.show()\n",
    "\n",
    "# cast to integer\n",
    "df_data = df2.select(df2[\"event_type\"].cast(IntegerType()), df2[\"user_id\"], df2[\"product_id\"]) \n",
    "df_data.show()"
   ]
  },
  {
   "cell_type": "code",
   "execution_count": 14,
   "id": "understanding-moderator",
   "metadata": {
    "scrolled": true
   },
   "outputs": [
    {
     "name": "stdout",
     "output_type": "stream",
     "text": [
      "+----------+-------+\n",
      "|event_type|count  |\n",
      "+----------+-------+\n",
      "|0         |4171452|\n",
      "|1         |74196  |\n",
      "+----------+-------+\n",
      "\n"
     ]
    }
   ],
   "source": [
    "# let's check\n",
    "df_data.groupBy('event_type').count().orderBy('count',ascending=False).show(10,False)"
   ]
  },
  {
   "cell_type": "code",
   "execution_count": 52,
   "id": "caring-edgar",
   "metadata": {},
   "outputs": [
    {
     "data": {
      "text/plain": [
       "1390837"
      ]
     },
     "execution_count": 52,
     "metadata": {},
     "output_type": "execute_result"
    }
   ],
   "source": [
    "# number of unic users\n",
    "df_data.groupBy('user_id').count().distinct().count()\n"
   ]
  },
  {
   "cell_type": "code",
   "execution_count": 15,
   "id": "technological-crossing",
   "metadata": {},
   "outputs": [],
   "source": [
    "# splitting dataset\n",
    "train,test=df_data.randomSplit(weights = [0.8,0.2], seed = 10)"
   ]
  },
  {
   "cell_type": "code",
   "execution_count": 16,
   "id": "declared-practitioner",
   "metadata": {},
   "outputs": [
    {
     "name": "stdout",
     "output_type": "stream",
     "text": [
      "3395720\n",
      "849928\n"
     ]
    }
   ],
   "source": [
    "print(train.count())\n",
    "print(test.count())"
   ]
  },
  {
   "cell_type": "code",
   "execution_count": 17,
   "id": "light-slovak",
   "metadata": {},
   "outputs": [],
   "source": [
    "# set up a model\n",
    "recomend=ALS(\\\n",
    "    maxIter=3,\\\n",
    "    regParam=0.5,\\\n",
    "    implicitPrefs=True,\\\n",
    "    alpha=0.9,\\\n",
    "    rank=8,\\\n",
    "    userCol='user_id',\\\n",
    "    itemCol='product_id',\\\n",
    "    ratingCol='event_type',\\\n",
    "    nonnegative=True,\\\n",
    "    coldStartStrategy=\"drop\"\\\n",
    ")"
   ]
  },
  {
   "cell_type": "code",
   "execution_count": 18,
   "id": "golden-sally",
   "metadata": {},
   "outputs": [],
   "source": [
    "# train the model\n",
    "recomend_model=recomend.fit(train)"
   ]
  },
  {
   "cell_type": "code",
   "execution_count": null,
   "id": "incorporated-buddy",
   "metadata": {},
   "outputs": [],
   "source": []
  },
  {
   "cell_type": "code",
   "execution_count": null,
   "id": "material-medicaid",
   "metadata": {},
   "outputs": [],
   "source": []
  },
  {
   "cell_type": "code",
   "execution_count": null,
   "id": "coordinate-mandate",
   "metadata": {},
   "outputs": [],
   "source": []
  },
  {
   "cell_type": "code",
   "execution_count": 19,
   "id": "muslim-turkey",
   "metadata": {},
   "outputs": [],
   "source": [
    "# make predictions on test\n",
    "predicted_ratings=recomend_model.transform(test)"
   ]
  },
  {
   "cell_type": "code",
   "execution_count": 20,
   "id": "pacific-living",
   "metadata": {},
   "outputs": [],
   "source": [
    "# predicted_ratings.printSchema()"
   ]
  },
  {
   "cell_type": "code",
   "execution_count": 21,
   "id": "cellular-diagram",
   "metadata": {},
   "outputs": [
    {
     "name": "stdout",
     "output_type": "stream",
     "text": [
      "+----------+---------+----------+------------+\n",
      "|event_type|  user_id|product_id|  prediction|\n",
      "+----------+---------+----------+------------+\n",
      "|         1|512558706|   1005159|         0.0|\n",
      "|         1|515242739|  18600019|         0.0|\n",
      "|         1|519267944|   1005140|3.2751838E-4|\n",
      "|         1|559524022|   1002524|         0.0|\n",
      "|         1|556741155|   4804055| 0.001007902|\n",
      "|         1|560775426|   1005238|         0.0|\n",
      "|         1|562809255|   1004756|         0.0|\n",
      "|         1|525020216|   1005100|         0.0|\n",
      "|         1|557033537|  24600473|         0.0|\n",
      "|         1|512597857|  13201074|2.1164446E-6|\n",
      "|         1|551028149|   2702628|         0.0|\n",
      "|         1|513894001|  12703493|         0.0|\n",
      "|         1|512968819|   3600231|         0.0|\n",
      "|         1|532099282|  11200192|         0.0|\n",
      "|         1|514365999|   1306359|         0.0|\n",
      "|         1|538708068|  26200589|         0.0|\n",
      "|         1|517242367|   4804056|         0.0|\n",
      "|         1|514202136|  28300545|         0.0|\n",
      "|         1|533086451|   4802036|0.0039665373|\n",
      "|         1|516509185|   1004857|         0.0|\n",
      "|         1|556725577|   1004856|         0.0|\n",
      "|         1|558824741|   1004833|         0.0|\n",
      "|         1|517453153|   1004250|0.0014271378|\n",
      "|         1|557769830|   1004833|         0.0|\n",
      "|         1|514464389|   1004836|         0.0|\n",
      "|         1|513585653|   1004566|         0.0|\n",
      "|         1|546241050|  12707478|         0.0|\n",
      "|         1|547406229|   3100927| 7.617754E-5|\n",
      "|         1|521797621|   1500208|         0.0|\n",
      "|         1|538064326|  12716715|         0.0|\n",
      "|         1|514418705|   1004565|         0.0|\n",
      "|         1|513429517|  12201767|         0.0|\n",
      "|         1|517841640|   1500399|3.9610563E-6|\n",
      "|         1|513074394|   1004227|         0.0|\n",
      "|         1|543010007|   5000487|         0.0|\n",
      "|         1|540270335|   4803977| 4.324732E-4|\n",
      "|         1|515558794|  12713289|         0.0|\n",
      "|         1|513602820|   1004767|         0.0|\n",
      "|         1|553910619|   1004767|         0.0|\n",
      "|         1|532945729|   1307341|3.5411496E-5|\n",
      "|         1|529359648|  26023842|         0.0|\n",
      "|         1|565928128|   1004766|         0.0|\n",
      "|         1|556212053|   1004856|0.0033307911|\n",
      "|         1|513181410|   1005135|         0.0|\n",
      "|         1|512548361|  28716673|         0.0|\n",
      "|         1|558035514|   1004566|         0.0|\n",
      "|         1|515055732|   1004249|0.0043458575|\n",
      "|         1|518623985|  26403392| 7.039075E-6|\n",
      "|         1|556969914|   1004709|         0.0|\n",
      "|         1|558806782|   1002633| 5.812238E-4|\n",
      "|         1|515734104|   1004230|         0.0|\n",
      "|         1|552049152|  11500609|         0.0|\n",
      "|         1|537723407|   3701277|         0.0|\n",
      "|         1|515203663|  17500770|         0.0|\n",
      "|         1|512556684|   1005115| 1.537574E-5|\n",
      "|         1|529241955|   1801581|         0.0|\n",
      "|         1|518732377|   4300402|         0.0|\n",
      "|         1|518736741|  30200001|         0.0|\n",
      "|         1|561579494|   8700327|         0.0|\n",
      "|         1|538330965|  26400378|         0.0|\n",
      "|         1|564663553|   1201504|         0.0|\n",
      "|         1|543969712|  25400175|         0.0|\n",
      "|         1|515481166|   1004767|         0.0|\n",
      "|         1|547591827|   5000552|         0.0|\n",
      "|         1|532201140|   1004856|         0.0|\n",
      "|         1|548693759|   1004243| 4.787859E-4|\n",
      "|         1|541177547|   1005239|         0.0|\n",
      "|         1|545524511|  12704781|         0.0|\n",
      "|         1|548951806|   1004795| 9.252796E-4|\n",
      "|         1|513281854|  12702042|0.0015102811|\n",
      "|         1|531358318|  17300710|         0.0|\n",
      "|         1|556260203|  12100618|         0.0|\n",
      "|         1|542490823|   3601405|         0.0|\n",
      "|         1|542096000|   1005129|         0.0|\n",
      "|         1|512670642|  26300713|         0.0|\n",
      "|         1|540802226|   1307366|         0.0|\n",
      "|         1|514415787|   1004258|         0.0|\n",
      "|         1|515008323|   5700619|         0.0|\n",
      "|         1|563700990|  26401582|         0.0|\n",
      "|         1|555966876|  26203359|2.1422085E-4|\n",
      "|         1|561856373|   1004870|         0.0|\n",
      "|         1|561816956|  10201152|         0.0|\n",
      "|         1|517526936|   4802930|1.0316059E-4|\n",
      "|         1|514256708|   1004173|         0.0|\n",
      "|         1|530164244|   1004250|         0.0|\n",
      "|         1|543628851|   1004856|         0.0|\n",
      "|         1|561423892|   2600803|   5.1161E-7|\n",
      "|         1|513438709|   1004246| 0.003934437|\n",
      "|         1|513565823|   4800730|6.4091546E-7|\n",
      "|         1|519923075|  25800005|         0.0|\n",
      "|         1|519606837|  13300277|         0.0|\n",
      "|         1|564682334|   1005161|6.8077503E-4|\n",
      "|         1|528109096|   1005112|0.0019156805|\n",
      "|         1|553763163|   4804055|0.0018301957|\n",
      "|         1|549610847|  50300429|         0.0|\n",
      "|         1|527256944|   1004871|         0.0|\n",
      "|         1|532238712|   9300046|         0.0|\n",
      "|         1|514429291|   5100718|         0.0|\n",
      "|         1|513096119|  26400785|         0.0|\n",
      "|         1|552707659|   4803894|6.3696573E-4|\n",
      "+----------+---------+----------+------------+\n",
      "only showing top 100 rows\n",
      "\n"
     ]
    }
   ],
   "source": [
    "# show some predictions\n",
    "predicted_ratings.filter(predicted_ratings.event_type == 1).orderBy(rand()).show(100)"
   ]
  },
  {
   "cell_type": "code",
   "execution_count": 22,
   "id": "practical-optics",
   "metadata": {},
   "outputs": [],
   "source": [
    "# set up evaluator with Root Mean Square Error\n",
    "evaluator=RegressionEvaluator(metricName='rmse',predictionCol='prediction',labelCol='event_type')"
   ]
  },
  {
   "cell_type": "code",
   "execution_count": 23,
   "id": "selected-zoning",
   "metadata": {},
   "outputs": [
    {
     "name": "stdout",
     "output_type": "stream",
     "text": [
      "0.9996355583647871\n"
     ]
    }
   ],
   "source": [
    "rmse=evaluator.evaluate(predicted_ratings.filter(predicted_ratings.event_type == 1))\n",
    "\n",
    "# implicit 0.13331617684682437\n",
    "print(rmse)"
   ]
  },
  {
   "cell_type": "code",
   "execution_count": 24,
   "id": "southwest-filing",
   "metadata": {},
   "outputs": [],
   "source": [
    "rmse=evaluator.evaluate(predicted_ratings.filter(predicted_ratings.event_type == 0))"
   ]
  },
  {
   "cell_type": "code",
   "execution_count": 25,
   "id": "precious-equivalent",
   "metadata": {},
   "outputs": [
    {
     "name": "stdout",
     "output_type": "stream",
     "text": [
      "0.0005144584109137656\n"
     ]
    }
   ],
   "source": [
    "print(rmse)"
   ]
  },
  {
   "cell_type": "code",
   "execution_count": 26,
   "id": "underlying-exercise",
   "metadata": {},
   "outputs": [
    {
     "data": {
      "text/plain": [
       "0.13332779932204264"
      ]
     },
     "execution_count": 26,
     "metadata": {},
     "output_type": "execute_result"
    }
   ],
   "source": [
    "evaluator.evaluate(predicted_ratings)"
   ]
  },
  {
   "cell_type": "code",
   "execution_count": 30,
   "id": "hybrid-criticism",
   "metadata": {},
   "outputs": [],
   "source": [
    "# save the ALS model for further use if required\n",
    "\n",
    "modelpath = \"ALSmodel\"\n",
    "recomend_model.write().overwrite().save(modelpath)"
   ]
  },
  {
   "cell_type": "code",
   "execution_count": 31,
   "id": "declared-bidder",
   "metadata": {},
   "outputs": [
    {
     "name": "stdout",
     "output_type": "stream",
     "text": [
      "total 1117096\r\n",
      "drwxrwxr-x  7 big big      4096 May 21 10:17 .\r\n",
      "drwxr-xr-x 33 big big      4096 May 12 14:59 ..\r\n",
      "drwxr-xr-x  5 big big      4096 May 21 10:17 ALSmodel\r\n",
      "-rw-rw-r--  1 big big   2003444 May 21 10:05 derby.log\r\n",
      "drwxrwxr-x  8 big big      4096 May 15 21:05 .git\r\n",
      "-rw-rw-r--  1 big big         6 May  8 20:47 .gitignore\r\n",
      "drwxrwxr-x  2 big big      4096 May 11 21:44 .ipynb_checkpoints\r\n",
      "-rw-rw-r--  1 big big 570895494 May  8 17:13 local_part.csv\r\n",
      "-rw-r--r--  1 big big 171002105 May 11 21:13 local_test.csv\r\n",
      "-rw-r--r--  1 big big 399893389 May 11 21:13 local_train.csv\r\n",
      "drwxrwxr-x  3 big big      4096 May 15 20:46 metastore_db\r\n",
      "-rw-rw-r--  1 big big      3716 May 12 22:05 Preare_data.ipynb\r\n",
      "-rw-rw-r--  1 big big     52950 May 21 10:06 Recommender.ipynb\r\n",
      "drwxr-xr-x  3 big big      4096 May 15 20:08 spark-warehouse\r\n"
     ]
    }
   ],
   "source": [
    "! ls -la"
   ]
  },
  {
   "cell_type": "code",
   "execution_count": 27,
   "id": "annual-fitting",
   "metadata": {},
   "outputs": [],
   "source": [
    "users = train.select(recomend.getUserCol()).distinct().limit(3)\n",
    "# !!! time consuming operation !!!\n",
    "userSubsetRecs = recomend_model.recommendForUserSubset(users, 2)"
   ]
  },
  {
   "cell_type": "code",
   "execution_count": 28,
   "id": "mathematical-honor",
   "metadata": {},
   "outputs": [
    {
     "name": "stdout",
     "output_type": "stream",
     "text": [
      "+---------+--------------------------------+\n",
      "|user_id  |recommendations                 |\n",
      "+---------+--------------------------------+\n",
      "|445162060|[[1002100, 0.0], [1002460, 0.0]]|\n",
      "|369454898|[[1002100, 0.0], [1002460, 0.0]]|\n",
      "|420412138|[[1002100, 0.0], [1002460, 0.0]]|\n",
      "+---------+--------------------------------+\n",
      "\n"
     ]
    }
   ],
   "source": [
    "# !!! time consuming operation !!!\n",
    "userSubsetRecs.show(10, truncate=False)"
   ]
  },
  {
   "cell_type": "code",
   "execution_count": 32,
   "id": "forty-handle",
   "metadata": {},
   "outputs": [],
   "source": [
    "outputUserSubsetRecs = \"userSubsetRecs.parquet\"\n",
    "\n",
    "userSubsetRecs.write.mode(\"overwrite\").parquet(outputUserSubsetRecs)"
   ]
  },
  {
   "cell_type": "code",
   "execution_count": 33,
   "id": "attached-colon",
   "metadata": {},
   "outputs": [
    {
     "name": "stdout",
     "output_type": "stream",
     "text": [
      "total 1117104\r\n",
      "drwxrwxr-x  8 big big      4096 May 21 10:26 .\r\n",
      "drwxr-xr-x 33 big big      4096 May 12 14:59 ..\r\n",
      "drwxr-xr-x  5 big big      4096 May 21 10:17 ALSmodel\r\n",
      "-rw-rw-r--  1 big big   2003444 May 21 10:05 derby.log\r\n",
      "drwxrwxr-x  8 big big      4096 May 15 21:05 .git\r\n",
      "-rw-rw-r--  1 big big         6 May  8 20:47 .gitignore\r\n",
      "drwxrwxr-x  2 big big      4096 May 11 21:44 .ipynb_checkpoints\r\n",
      "-rw-rw-r--  1 big big 570895494 May  8 17:13 local_part.csv\r\n",
      "-rw-r--r--  1 big big 171002105 May 11 21:13 local_test.csv\r\n",
      "-rw-r--r--  1 big big 399893389 May 11 21:13 local_train.csv\r\n",
      "drwxrwxr-x  3 big big      4096 May 15 20:46 metastore_db\r\n",
      "-rw-rw-r--  1 big big      3716 May 12 22:05 Preare_data.ipynb\r\n",
      "-rw-rw-r--  1 big big     54942 May 21 10:26 Recommender.ipynb\r\n",
      "drwxr-xr-x  3 big big      4096 May 15 20:08 spark-warehouse\r\n",
      "drwxr-xr-x  2 big big      4096 May 21 10:21 userSubsetRecs.parquet\r\n"
     ]
    }
   ],
   "source": [
    "! ls -la"
   ]
  },
  {
   "cell_type": "code",
   "execution_count": null,
   "id": "honey-rubber",
   "metadata": {},
   "outputs": [],
   "source": [
    "# userSubsetRecs.write.mode(\"overwrite\").saveAsTable(\"UserSubsetRecommendationsTable\")"
   ]
  },
  {
   "cell_type": "code",
   "execution_count": null,
   "id": "boxed-thesis",
   "metadata": {},
   "outputs": [],
   "source": []
  },
  {
   "cell_type": "code",
   "execution_count": 106,
   "id": "focal-tribute",
   "metadata": {},
   "outputs": [],
   "source": [
    "# !!! time consuming operation !!!\n",
    "\n",
    "# followed code need to perform on AWS EMR cluster --------------------------------\n",
    "userRecs = recomend_model.recommendForAllUsers(10)\n",
    "# itemRecs = model.recommendForAllItems(10)"
   ]
  },
  {
   "cell_type": "code",
   "execution_count": null,
   "id": "conditional-evaluation",
   "metadata": {},
   "outputs": [],
   "source": []
  },
  {
   "cell_type": "code",
   "execution_count": 107,
   "id": "absent-christopher",
   "metadata": {},
   "outputs": [
    {
     "name": "stdout",
     "output_type": "stream",
     "text": [
      "+---------+--------------------------------------------------------------------------------------------------------------------------------------------------------------------------+\n",
      "|user_id  |recommendations                                                                                                                                                           |\n",
      "+---------+--------------------------------------------------------------------------------------------------------------------------------------------------------------------------+\n",
      "|240522111|[[12707130, 0.0], [12707140, 0.0], [12707250, 0.0], [12707290, 0.0], [12707300, 0.0], [12707310, 0.0], [12707320, 0.0], [12707340, 0.0], [12707370, 0.0], [12707380, 0.0]]|\n",
      "|303418896|[[12707130, 0.0], [12707140, 0.0], [12707250, 0.0], [12707290, 0.0], [12707300, 0.0], [12707310, 0.0], [12707320, 0.0], [12707340, 0.0], [12707370, 0.0], [12707380, 0.0]]|\n",
      "|357446328|[[12707130, 0.0], [12707140, 0.0], [12707250, 0.0], [12707290, 0.0], [12707300, 0.0], [12707310, 0.0], [12707320, 0.0], [12707340, 0.0], [12707370, 0.0], [12707380, 0.0]]|\n",
      "|369454898|[[12707130, 0.0], [12707140, 0.0], [12707250, 0.0], [12707290, 0.0], [12707300, 0.0], [12707310, 0.0], [12707320, 0.0], [12707340, 0.0], [12707370, 0.0], [12707380, 0.0]]|\n",
      "|391260478|[[12707130, 0.0], [12707140, 0.0], [12707250, 0.0], [12707290, 0.0], [12707300, 0.0], [12707310, 0.0], [12707320, 0.0], [12707340, 0.0], [12707370, 0.0], [12707380, 0.0]]|\n",
      "|420412138|[[12707130, 0.0], [12707140, 0.0], [12707250, 0.0], [12707290, 0.0], [12707300, 0.0], [12707310, 0.0], [12707320, 0.0], [12707340, 0.0], [12707370, 0.0], [12707380, 0.0]]|\n",
      "|429549742|[[12707130, 0.0], [12707140, 0.0], [12707250, 0.0], [12707290, 0.0], [12707300, 0.0], [12707310, 0.0], [12707320, 0.0], [12707340, 0.0], [12707370, 0.0], [12707380, 0.0]]|\n",
      "|438192512|[[12707130, 0.0], [12707140, 0.0], [12707250, 0.0], [12707290, 0.0], [12707300, 0.0], [12707310, 0.0], [12707320, 0.0], [12707340, 0.0], [12707370, 0.0], [12707380, 0.0]]|\n",
      "|445162060|[[12706301, 0.0], [12706331, 0.0], [12706361, 0.0], [12706371, 0.0], [12706391, 0.0], [12706411, 0.0], [12706431, 0.0], [12706441, 0.0], [12706501, 0.0], [12706511, 0.0]]|\n",
      "|448241309|[[12707130, 0.0], [12707140, 0.0], [12707250, 0.0], [12707290, 0.0], [12707300, 0.0], [12707310, 0.0], [12707320, 0.0], [12707340, 0.0], [12707370, 0.0], [12707380, 0.0]]|\n",
      "+---------+--------------------------------------------------------------------------------------------------------------------------------------------------------------------------+\n",
      "only showing top 10 rows\n",
      "\n"
     ]
    }
   ],
   "source": [
    "# !!! time consuming operation !!!\n",
    "userRecs.show(10, truncate=False)"
   ]
  },
  {
   "cell_type": "code",
   "execution_count": 110,
   "id": "french-concord",
   "metadata": {},
   "outputs": [
    {
     "ename": "KeyboardInterrupt",
     "evalue": "",
     "output_type": "error",
     "traceback": [
      "\u001b[0;31m---------------------------------------------------------------------------\u001b[0m",
      "\u001b[0;31mKeyboardInterrupt\u001b[0m                         Traceback (most recent call last)",
      "\u001b[0;32m<ipython-input-110-bf4737fb26f2>\u001b[0m in \u001b[0;36m<module>\u001b[0;34m\u001b[0m\n\u001b[1;32m      1\u001b[0m \u001b[0;31m# !!! time consuming operation !!!\u001b[0m\u001b[0;34m\u001b[0m\u001b[0;34m\u001b[0m\u001b[0;34m\u001b[0m\u001b[0m\n\u001b[0;32m----> 2\u001b[0;31m \u001b[0muserRecs\u001b[0m\u001b[0;34m.\u001b[0m\u001b[0mwrite\u001b[0m\u001b[0;34m.\u001b[0m\u001b[0mmode\u001b[0m\u001b[0;34m(\u001b[0m\u001b[0;34m\"overwrite\"\u001b[0m\u001b[0;34m)\u001b[0m\u001b[0;34m.\u001b[0m\u001b[0msaveAsTable\u001b[0m\u001b[0;34m(\u001b[0m\u001b[0;34m\"UserRecommendationsTable\"\u001b[0m\u001b[0;34m)\u001b[0m\u001b[0;34m\u001b[0m\u001b[0;34m\u001b[0m\u001b[0m\n\u001b[0m",
      "\u001b[0;32m/opt/spark/python/pyspark/sql/readwriter.py\u001b[0m in \u001b[0;36msaveAsTable\u001b[0;34m(self, name, format, mode, partitionBy, **options)\u001b[0m\n\u001b[1;32m    866\u001b[0m         \u001b[0;32mif\u001b[0m \u001b[0mformat\u001b[0m \u001b[0;32mis\u001b[0m \u001b[0;32mnot\u001b[0m \u001b[0;32mNone\u001b[0m\u001b[0;34m:\u001b[0m\u001b[0;34m\u001b[0m\u001b[0;34m\u001b[0m\u001b[0m\n\u001b[1;32m    867\u001b[0m             \u001b[0mself\u001b[0m\u001b[0;34m.\u001b[0m\u001b[0mformat\u001b[0m\u001b[0;34m(\u001b[0m\u001b[0mformat\u001b[0m\u001b[0;34m)\u001b[0m\u001b[0;34m\u001b[0m\u001b[0;34m\u001b[0m\u001b[0m\n\u001b[0;32m--> 868\u001b[0;31m         \u001b[0mself\u001b[0m\u001b[0;34m.\u001b[0m\u001b[0m_jwrite\u001b[0m\u001b[0;34m.\u001b[0m\u001b[0msaveAsTable\u001b[0m\u001b[0;34m(\u001b[0m\u001b[0mname\u001b[0m\u001b[0;34m)\u001b[0m\u001b[0;34m\u001b[0m\u001b[0;34m\u001b[0m\u001b[0m\n\u001b[0m\u001b[1;32m    869\u001b[0m \u001b[0;34m\u001b[0m\u001b[0m\n\u001b[1;32m    870\u001b[0m     \u001b[0;34m@\u001b[0m\u001b[0msince\u001b[0m\u001b[0;34m(\u001b[0m\u001b[0;36m1.4\u001b[0m\u001b[0;34m)\u001b[0m\u001b[0;34m\u001b[0m\u001b[0;34m\u001b[0m\u001b[0m\n",
      "\u001b[0;32m/opt/spark/python/lib/py4j-0.10.9-src.zip/py4j/java_gateway.py\u001b[0m in \u001b[0;36m__call__\u001b[0;34m(self, *args)\u001b[0m\n\u001b[1;32m   1301\u001b[0m             \u001b[0mproto\u001b[0m\u001b[0;34m.\u001b[0m\u001b[0mEND_COMMAND_PART\u001b[0m\u001b[0;34m\u001b[0m\u001b[0;34m\u001b[0m\u001b[0m\n\u001b[1;32m   1302\u001b[0m \u001b[0;34m\u001b[0m\u001b[0m\n\u001b[0;32m-> 1303\u001b[0;31m         \u001b[0manswer\u001b[0m \u001b[0;34m=\u001b[0m \u001b[0mself\u001b[0m\u001b[0;34m.\u001b[0m\u001b[0mgateway_client\u001b[0m\u001b[0;34m.\u001b[0m\u001b[0msend_command\u001b[0m\u001b[0;34m(\u001b[0m\u001b[0mcommand\u001b[0m\u001b[0;34m)\u001b[0m\u001b[0;34m\u001b[0m\u001b[0;34m\u001b[0m\u001b[0m\n\u001b[0m\u001b[1;32m   1304\u001b[0m         return_value = get_return_value(\n\u001b[1;32m   1305\u001b[0m             answer, self.gateway_client, self.target_id, self.name)\n",
      "\u001b[0;32m/opt/spark/python/lib/py4j-0.10.9-src.zip/py4j/java_gateway.py\u001b[0m in \u001b[0;36msend_command\u001b[0;34m(self, command, retry, binary)\u001b[0m\n\u001b[1;32m   1031\u001b[0m         \u001b[0mconnection\u001b[0m \u001b[0;34m=\u001b[0m \u001b[0mself\u001b[0m\u001b[0;34m.\u001b[0m\u001b[0m_get_connection\u001b[0m\u001b[0;34m(\u001b[0m\u001b[0;34m)\u001b[0m\u001b[0;34m\u001b[0m\u001b[0;34m\u001b[0m\u001b[0m\n\u001b[1;32m   1032\u001b[0m         \u001b[0;32mtry\u001b[0m\u001b[0;34m:\u001b[0m\u001b[0;34m\u001b[0m\u001b[0;34m\u001b[0m\u001b[0m\n\u001b[0;32m-> 1033\u001b[0;31m             \u001b[0mresponse\u001b[0m \u001b[0;34m=\u001b[0m \u001b[0mconnection\u001b[0m\u001b[0;34m.\u001b[0m\u001b[0msend_command\u001b[0m\u001b[0;34m(\u001b[0m\u001b[0mcommand\u001b[0m\u001b[0;34m)\u001b[0m\u001b[0;34m\u001b[0m\u001b[0;34m\u001b[0m\u001b[0m\n\u001b[0m\u001b[1;32m   1034\u001b[0m             \u001b[0;32mif\u001b[0m \u001b[0mbinary\u001b[0m\u001b[0;34m:\u001b[0m\u001b[0;34m\u001b[0m\u001b[0;34m\u001b[0m\u001b[0m\n\u001b[1;32m   1035\u001b[0m                 \u001b[0;32mreturn\u001b[0m \u001b[0mresponse\u001b[0m\u001b[0;34m,\u001b[0m \u001b[0mself\u001b[0m\u001b[0;34m.\u001b[0m\u001b[0m_create_connection_guard\u001b[0m\u001b[0;34m(\u001b[0m\u001b[0mconnection\u001b[0m\u001b[0;34m)\u001b[0m\u001b[0;34m\u001b[0m\u001b[0;34m\u001b[0m\u001b[0m\n",
      "\u001b[0;32m/opt/spark/python/lib/py4j-0.10.9-src.zip/py4j/java_gateway.py\u001b[0m in \u001b[0;36msend_command\u001b[0;34m(self, command)\u001b[0m\n\u001b[1;32m   1198\u001b[0m \u001b[0;34m\u001b[0m\u001b[0m\n\u001b[1;32m   1199\u001b[0m         \u001b[0;32mtry\u001b[0m\u001b[0;34m:\u001b[0m\u001b[0;34m\u001b[0m\u001b[0;34m\u001b[0m\u001b[0m\n\u001b[0;32m-> 1200\u001b[0;31m             \u001b[0manswer\u001b[0m \u001b[0;34m=\u001b[0m \u001b[0msmart_decode\u001b[0m\u001b[0;34m(\u001b[0m\u001b[0mself\u001b[0m\u001b[0;34m.\u001b[0m\u001b[0mstream\u001b[0m\u001b[0;34m.\u001b[0m\u001b[0mreadline\u001b[0m\u001b[0;34m(\u001b[0m\u001b[0;34m)\u001b[0m\u001b[0;34m[\u001b[0m\u001b[0;34m:\u001b[0m\u001b[0;34m-\u001b[0m\u001b[0;36m1\u001b[0m\u001b[0;34m]\u001b[0m\u001b[0;34m)\u001b[0m\u001b[0;34m\u001b[0m\u001b[0;34m\u001b[0m\u001b[0m\n\u001b[0m\u001b[1;32m   1201\u001b[0m             \u001b[0mlogger\u001b[0m\u001b[0;34m.\u001b[0m\u001b[0mdebug\u001b[0m\u001b[0;34m(\u001b[0m\u001b[0;34m\"Answer received: {0}\"\u001b[0m\u001b[0;34m.\u001b[0m\u001b[0mformat\u001b[0m\u001b[0;34m(\u001b[0m\u001b[0manswer\u001b[0m\u001b[0;34m)\u001b[0m\u001b[0;34m)\u001b[0m\u001b[0;34m\u001b[0m\u001b[0;34m\u001b[0m\u001b[0m\n\u001b[1;32m   1202\u001b[0m             \u001b[0;32mif\u001b[0m \u001b[0manswer\u001b[0m\u001b[0;34m.\u001b[0m\u001b[0mstartswith\u001b[0m\u001b[0;34m(\u001b[0m\u001b[0mproto\u001b[0m\u001b[0;34m.\u001b[0m\u001b[0mRETURN_MESSAGE\u001b[0m\u001b[0;34m)\u001b[0m\u001b[0;34m:\u001b[0m\u001b[0;34m\u001b[0m\u001b[0;34m\u001b[0m\u001b[0m\n",
      "\u001b[0;32m/usr/lib/python3.8/socket.py\u001b[0m in \u001b[0;36mreadinto\u001b[0;34m(self, b)\u001b[0m\n\u001b[1;32m    667\u001b[0m         \u001b[0;32mwhile\u001b[0m \u001b[0;32mTrue\u001b[0m\u001b[0;34m:\u001b[0m\u001b[0;34m\u001b[0m\u001b[0;34m\u001b[0m\u001b[0m\n\u001b[1;32m    668\u001b[0m             \u001b[0;32mtry\u001b[0m\u001b[0;34m:\u001b[0m\u001b[0;34m\u001b[0m\u001b[0;34m\u001b[0m\u001b[0m\n\u001b[0;32m--> 669\u001b[0;31m                 \u001b[0;32mreturn\u001b[0m \u001b[0mself\u001b[0m\u001b[0;34m.\u001b[0m\u001b[0m_sock\u001b[0m\u001b[0;34m.\u001b[0m\u001b[0mrecv_into\u001b[0m\u001b[0;34m(\u001b[0m\u001b[0mb\u001b[0m\u001b[0;34m)\u001b[0m\u001b[0;34m\u001b[0m\u001b[0;34m\u001b[0m\u001b[0m\n\u001b[0m\u001b[1;32m    670\u001b[0m             \u001b[0;32mexcept\u001b[0m \u001b[0mtimeout\u001b[0m\u001b[0;34m:\u001b[0m\u001b[0;34m\u001b[0m\u001b[0;34m\u001b[0m\u001b[0m\n\u001b[1;32m    671\u001b[0m                 \u001b[0mself\u001b[0m\u001b[0;34m.\u001b[0m\u001b[0m_timeout_occurred\u001b[0m \u001b[0;34m=\u001b[0m \u001b[0;32mTrue\u001b[0m\u001b[0;34m\u001b[0m\u001b[0;34m\u001b[0m\u001b[0m\n",
      "\u001b[0;31mKeyboardInterrupt\u001b[0m: "
     ]
    }
   ],
   "source": [
    "# !!! time consuming operation !!!\n",
    "userRecs.write.mode(\"overwrite\").saveAsTable(\"UserRecommendationsTable\")\n",
    "# after saving tables on AWS, need to come back and make recommendations in notebook ------------------"
   ]
  },
  {
   "cell_type": "code",
   "execution_count": 35,
   "id": "consistent-baking",
   "metadata": {},
   "outputs": [
    {
     "name": "stdout",
     "output_type": "stream",
     "text": [
      "total 1117104\r\n",
      "drwxrwxr-x  8 big big      4096 May 21 10:50 .\r\n",
      "drwxr-xr-x 33 big big      4096 May 12 14:59 ..\r\n",
      "drwxr-xr-x  5 big big      4096 May 21 10:17 ALSmodel\r\n",
      "-rw-rw-r--  1 big big   2003444 May 21 10:05 derby.log\r\n",
      "drwxrwxr-x  8 big big      4096 May 15 21:05 .git\r\n",
      "-rw-rw-r--  1 big big         6 May  8 20:47 .gitignore\r\n",
      "drwxrwxr-x  2 big big      4096 May 11 21:44 .ipynb_checkpoints\r\n",
      "-rw-rw-r--  1 big big 570895494 May  8 17:13 local_part.csv\r\n",
      "-rw-r--r--  1 big big 171002105 May 11 21:13 local_test.csv\r\n",
      "-rw-r--r--  1 big big 399893389 May 11 21:13 local_train.csv\r\n",
      "drwxrwxr-x  3 big big      4096 May 15 20:46 metastore_db\r\n",
      "-rw-rw-r--  1 big big      3716 May 12 22:05 Preare_data.ipynb\r\n",
      "-rw-rw-r--  1 big big     56641 May 21 10:50 Recommender.ipynb\r\n",
      "drwxr-xr-x  3 big big      4096 May 15 20:08 spark-warehouse\r\n",
      "drwxr-xr-x  2 big big      4096 May 21 10:21 userSubsetRecs.parquet\r\n"
     ]
    }
   ],
   "source": [
    "! ls -la"
   ]
  },
  {
   "cell_type": "code",
   "execution_count": 36,
   "id": "rural-liabilities",
   "metadata": {},
   "outputs": [],
   "source": [
    "dfUserSubsetRec = spark.read.load(outputUserSubsetRecs)"
   ]
  },
  {
   "cell_type": "code",
   "execution_count": 39,
   "id": "russian-hostel",
   "metadata": {},
   "outputs": [
    {
     "name": "stdout",
     "output_type": "stream",
     "text": [
      "+---------+--------------------+\n",
      "|  user_id|     recommendations|\n",
      "+---------+--------------------+\n",
      "|445162060|[[1002100, 0.0], ...|\n",
      "|369454898|[[1002100, 0.0], ...|\n",
      "|420412138|[[1002100, 0.0], ...|\n",
      "+---------+--------------------+\n",
      "\n"
     ]
    }
   ],
   "source": [
    "dfUserSubsetRec.show()"
   ]
  },
  {
   "cell_type": "code",
   "execution_count": 42,
   "id": "younger-portugal",
   "metadata": {},
   "outputs": [
    {
     "data": {
      "text/plain": [
       "3"
      ]
     },
     "execution_count": 42,
     "metadata": {},
     "output_type": "execute_result"
    }
   ],
   "source": [
    "dfUserSubsetRec.distinct().count()"
   ]
  },
  {
   "cell_type": "code",
   "execution_count": 41,
   "id": "genetic-permission",
   "metadata": {},
   "outputs": [
    {
     "name": "stdout",
     "output_type": "stream",
     "text": [
      "+---------+--------------------------------+\n",
      "|user_id  |recommendations                 |\n",
      "+---------+--------------------------------+\n",
      "|445162060|[[1002100, 0.0], [1002460, 0.0]]|\n",
      "+---------+--------------------------------+\n",
      "\n"
     ]
    }
   ],
   "source": [
    "# show recommendations for user\n",
    "user_id=445162060\n",
    "dfUserSubsetRec.filter(dfUserSubsetRec.user_id == user_id).show(1, truncate=False)"
   ]
  },
  {
   "cell_type": "code",
   "execution_count": null,
   "id": "rapid-prisoner",
   "metadata": {},
   "outputs": [],
   "source": []
  },
  {
   "cell_type": "code",
   "execution_count": 74,
   "id": "reasonable-reality",
   "metadata": {},
   "outputs": [
    {
     "name": "stdout",
     "output_type": "stream",
     "text": [
      "125057\n"
     ]
    }
   ],
   "source": [
    "# TODO delete all below ====================================================================\n",
    "\n",
    "\n",
    "# number of unic products as items\n",
    "unique_items=df_data.select('product_id').selectExpr(\"product_id as product_id_1\").distinct()\n",
    "print(unique_items.count())"
   ]
  },
  {
   "cell_type": "code",
   "execution_count": 86,
   "id": "specific-miller",
   "metadata": {},
   "outputs": [],
   "source": [
    "# user id for making recommendations\n",
    "user_id=531210799"
   ]
  },
  {
   "cell_type": "code",
   "execution_count": 87,
   "id": "funded-remainder",
   "metadata": {},
   "outputs": [],
   "source": [
    "# number of products user interact\n",
    "purchased_items=df_data.filter(df_data['user_id'] ==  user_id).select('product_id').distinct()  "
   ]
  },
  {
   "cell_type": "code",
   "execution_count": 88,
   "id": "designed-check",
   "metadata": {},
   "outputs": [
    {
     "name": "stdout",
     "output_type": "stream",
     "text": [
      "2\n"
     ]
    }
   ],
   "source": [
    "print(purchased_items.count())"
   ]
  },
  {
   "cell_type": "code",
   "execution_count": 89,
   "id": "massive-village",
   "metadata": {},
   "outputs": [
    {
     "name": "stdout",
     "output_type": "stream",
     "text": [
      "125057\n"
     ]
    }
   ],
   "source": [
    "# join purchaised and all items\n",
    "total_items = unique_items.join(\\\n",
    "                            purchased_items,\\\n",
    "                            unique_items.product_id_1 == purchased_items.product_id,\\\n",
    "                            how='left'\\\n",
    "                            )\n",
    "print(total_items.count())"
   ]
  },
  {
   "cell_type": "code",
   "execution_count": 90,
   "id": "grateful-colon",
   "metadata": {},
   "outputs": [
    {
     "name": "stdout",
     "output_type": "stream",
     "text": [
      "+------------+----------+\n",
      "|product_id_1|product_id|\n",
      "+------------+----------+\n",
      "|1003938     |null      |\n",
      "|1004666     |null      |\n",
      "|1004739     |null      |\n",
      "|1005158     |null      |\n",
      "|1201512     |null      |\n",
      "|1305803     |null      |\n",
      "|1306176     |null      |\n",
      "|1307005     |null      |\n",
      "|1307184     |null      |\n",
      "|1307463     |null      |\n",
      "+------------+----------+\n",
      "only showing top 10 rows\n",
      "\n"
     ]
    }
   ],
   "source": [
    "total_items.show(10,False)"
   ]
  },
  {
   "cell_type": "code",
   "execution_count": 91,
   "id": "introductory-emergency",
   "metadata": {},
   "outputs": [
    {
     "name": "stdout",
     "output_type": "stream",
     "text": [
      "125055\n"
     ]
    }
   ],
   "source": [
    "# select items that user didnt purchaise\n",
    "remaining_items=total_items.where(col(\"product_id\").isNull()).select(unique_items.product_id_1).distinct()\n",
    "print(remaining_items.count())"
   ]
  },
  {
   "cell_type": "code",
   "execution_count": 92,
   "id": "mental-malpractice",
   "metadata": {},
   "outputs": [],
   "source": [
    "# add user_id col\n",
    "remaining_items=remaining_items.\\\n",
    "    withColumn(\"user_id\",lit(int(user_id))).\\\n",
    "    selectExpr(\"product_id_1 as product_id\",\"user_id as user_id\")"
   ]
  },
  {
   "cell_type": "code",
   "execution_count": 93,
   "id": "stupid-virgin",
   "metadata": {},
   "outputs": [
    {
     "name": "stdout",
     "output_type": "stream",
     "text": [
      "+----------+---------+\n",
      "|product_id|user_id  |\n",
      "+----------+---------+\n",
      "|1003938   |531210799|\n",
      "|1004666   |531210799|\n",
      "|1004739   |531210799|\n",
      "|1005158   |531210799|\n",
      "|1201512   |531210799|\n",
      "|1305803   |531210799|\n",
      "|1306176   |531210799|\n",
      "|1307005   |531210799|\n",
      "|1307184   |531210799|\n",
      "|1307463   |531210799|\n",
      "+----------+---------+\n",
      "only showing top 10 rows\n",
      "\n"
     ]
    }
   ],
   "source": [
    "remaining_items.show(10,False)"
   ]
  },
  {
   "cell_type": "code",
   "execution_count": 94,
   "id": "identified-cruise",
   "metadata": {},
   "outputs": [],
   "source": [
    "# get the predictions\n",
    "predictions = recomend_model.transform(remaining_items).collect()"
   ]
  },
  {
   "cell_type": "code",
   "execution_count": 95,
   "id": "incident-saskatchewan",
   "metadata": {},
   "outputs": [],
   "source": [
    "recommendations=recomend_model.transform(remaining_items).orderBy('prediction',ascending=False)"
   ]
  },
  {
   "cell_type": "code",
   "execution_count": 96,
   "id": "orange-isaac",
   "metadata": {},
   "outputs": [
    {
     "name": "stdout",
     "output_type": "stream",
     "text": [
      "+----------+---------+------------+\n",
      "|product_id|  user_id|  prediction|\n",
      "+----------+---------+------------+\n",
      "|   1004767|531210799|0.0066990647|\n",
      "|   1004833|531210799|0.0036313545|\n",
      "|   1005100|531210799| 0.002678161|\n",
      "|   1004870|531210799|0.0024105322|\n",
      "|   1004659|531210799| 0.002405511|\n",
      "|   1004249|531210799| 0.002393179|\n",
      "|   1002544|531210799|0.0023075289|\n",
      "|   1004258|531210799|0.0021013005|\n",
      "|   1002524|531210799|0.0020997336|\n",
      "|   1004857|531210799| 0.002052007|\n",
      "|   1004739|531210799|0.0020427264|\n",
      "|   1004873|531210799|0.0019401289|\n",
      "|   1005132|531210799|0.0018956043|\n",
      "|   1005115|531210799|0.0018012377|\n",
      "|   4804055|531210799|0.0017952044|\n",
      "|   8700219|531210799|0.0017400818|\n",
      "|   4804056|531210799|0.0017235356|\n",
      "|  26300626|531210799|0.0016977447|\n",
      "|   1005098|531210799|0.0016694906|\n",
      "|   1004250|531210799|0.0016502171|\n",
      "|   1004858|531210799|0.0016070176|\n",
      "|   1005160|531210799|0.0016009217|\n",
      "|   3901175|531210799|0.0015766728|\n",
      "|   1004838|531210799|0.0015733948|\n",
      "|   4803791|531210799|0.0015411843|\n",
      "|   1004708|531210799|0.0015379293|\n",
      "|   1801555|531210799|0.0015294446|\n",
      "|  26500014|531210799|   0.0014661|\n",
      "|   1307406|531210799|0.0014202207|\n",
      "|   1004750|531210799|0.0014001712|\n",
      "|  51900018|531210799|0.0013771268|\n",
      "|  21404577|531210799|0.0013753271|\n",
      "|   8000324|531210799|0.0013747206|\n",
      "|  13103900|531210799|0.0013733284|\n",
      "|  18000959|531210799|0.0013733144|\n",
      "|   3200163|531210799| 0.001371309|\n",
      "|   1004227|531210799| 0.001358892|\n",
      "|   1003310|531210799|0.0013573273|\n",
      "|  27600136|531210799|0.0013553463|\n",
      "|   1004836|531210799|0.0013378555|\n",
      "|   1004565|531210799|0.0013378393|\n",
      "|   5100577|531210799|0.0013370336|\n",
      "|   1004856|531210799|0.0013094051|\n",
      "|   1004709|531210799|0.0013070352|\n",
      "|   1002540|531210799|0.0012914988|\n",
      "|  12704490|531210799|0.0012903113|\n",
      "|   1005014|531210799| 0.001278783|\n",
      "|   1002633|531210799|0.0012727333|\n",
      "|   1004161|531210799| 0.001259301|\n",
      "|   1003304|531210799|0.0012471254|\n",
      "|   5100337|531210799| 0.001238698|\n",
      "|   1004449|531210799|0.0012055619|\n",
      "|   5100563|531210799|0.0012049438|\n",
      "|  17900034|531210799|0.0011860305|\n",
      "|   1005104|531210799|0.0011683975|\n",
      "|  26403305|531210799|0.0011552672|\n",
      "|  16100032|531210799|0.0011536602|\n",
      "|   5100562|531210799|0.0011501404|\n",
      "|  40500212|531210799|0.0011368416|\n",
      "|  15100370|531210799|0.0011156083|\n",
      "|   1003548|531210799|0.0011114888|\n",
      "|  12700832|531210799|0.0011088387|\n",
      "|   1200947|531210799| 0.001100226|\n",
      "|   5701002|531210799|0.0010968435|\n",
      "|  12702530|531210799|0.0010746013|\n",
      "|   1004237|531210799| 0.001074012|\n",
      "|   1801723|531210799|0.0010681485|\n",
      "|   2800666|531210799|0.0010625109|\n",
      "|  18300703|531210799|0.0010570385|\n",
      "|   1004766|531210799|0.0010508756|\n",
      "|   1003317|531210799|0.0010492181|\n",
      "|   7004508|531210799|0.0010478554|\n",
      "|  15200295|531210799|0.0010411284|\n",
      "|  14100123|531210799|0.0010402111|\n",
      "|  32801022|531210799|0.0010401228|\n",
      "|   1005116|531210799|0.0010375545|\n",
      "|   1005105|531210799|0.0010366851|\n",
      "|  12703670|531210799|0.0010345808|\n",
      "|   1005177|531210799|0.0010207687|\n",
      "|   1005159|531210799|0.0010194697|\n",
      "|  26700045|531210799|0.0010169669|\n",
      "|   1004749|531210799|0.0010037165|\n",
      "|   1005008|531210799|0.0010032061|\n",
      "|   1005192|531210799| 9.983284E-4|\n",
      "|   5100338|531210799| 9.936064E-4|\n",
      "|   5100718|531210799| 9.835893E-4|\n",
      "|   1004209|531210799|9.7627915E-4|\n",
      "|   4803977|531210799|9.7360683E-4|\n",
      "|   1004875|531210799| 9.666961E-4|\n",
      "|   2601094|531210799|9.5885375E-4|\n",
      "|  26203279|531210799|9.5820497E-4|\n",
      "|   1005140|531210799|9.5743965E-4|\n",
      "|   4700380|531210799|9.4843004E-4|\n",
      "|   2601934|531210799| 9.464388E-4|\n",
      "|   1005212|531210799|9.4136613E-4|\n",
      "|   6000227|531210799|9.3985745E-4|\n",
      "|   1004665|531210799| 9.391535E-4|\n",
      "|   1801623|531210799|9.3912013E-4|\n",
      "|  26400195|531210799|9.3753345E-4|\n",
      "|   1005103|531210799| 9.287554E-4|\n",
      "+----------+---------+------------+\n",
      "only showing top 100 rows\n",
      "\n"
     ]
    }
   ],
   "source": [
    "recommendations.show(100)"
   ]
  },
  {
   "cell_type": "code",
   "execution_count": null,
   "id": "elder-moses",
   "metadata": {},
   "outputs": [],
   "source": []
  }
 ],
 "metadata": {
  "kernelspec": {
   "display_name": "PySpark",
   "language": "python",
   "name": "pyspark"
  },
  "language_info": {
   "codemirror_mode": {
    "name": "ipython",
    "version": 3
   },
   "file_extension": ".py",
   "mimetype": "text/x-python",
   "name": "python",
   "nbconvert_exporter": "python",
   "pygments_lexer": "ipython3",
   "version": "3.8.5"
  }
 },
 "nbformat": 4,
 "nbformat_minor": 5
}
