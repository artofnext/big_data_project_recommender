{
 "cells": [
  {
   "cell_type": "code",
   "execution_count": 1,
   "id": "marked-logic",
   "metadata": {},
   "outputs": [],
   "source": [
    "from pyspark.sql.functions import rand\n",
    "from pyspark.ml.feature import StringIndexer, IndexToString\n",
    "from pyspark.ml.recommendation import ALS\n",
    "from pyspark.ml.evaluation import RegressionEvaluator\n",
    "from pyspark.sql.functions import col, lit\n",
    "from pyspark.sql.types import StructType, StructField, StringType, IntegerType, LongType, DoubleType, TimestampType"
   ]
  },
  {
   "cell_type": "code",
   "execution_count": 2,
   "id": "literary-pastor",
   "metadata": {},
   "outputs": [
    {
     "name": "stdout",
     "output_type": "stream",
     "text": [
      "total 1115100\r\n",
      "drwxrwxr-x  4 big big      4096 May 13 17:29 .\r\n",
      "drwxr-xr-x 33 big big      4096 May 12 14:59 ..\r\n",
      "drwxrwxr-x  8 big big      4096 May 12 13:49 .git\r\n",
      "-rw-rw-r--  1 big big         6 May  8 20:47 .gitignore\r\n",
      "drwxrwxr-x  2 big big      4096 May 11 21:44 .ipynb_checkpoints\r\n",
      "-rw-rw-r--  1 big big 570895494 May  8 17:13 local_part.csv\r\n",
      "-rw-r--r--  1 big big 171002105 May 11 21:13 local_test.csv\r\n",
      "-rw-r--r--  1 big big 399893389 May 11 21:13 local_train.csv\r\n",
      "-rw-rw-r--  1 big big      3716 May 12 22:05 Preare_data.ipynb\r\n",
      "-rw-rw-r--  1 big big     26684 May 13 17:29 Recommender.ipynb\r\n"
     ]
    }
   ],
   "source": [
    "! ls -la"
   ]
  },
  {
   "cell_type": "code",
   "execution_count": 3,
   "id": "amended-behalf",
   "metadata": {},
   "outputs": [],
   "source": [
    "# all field types reference\n",
    "#__all__ = [\n",
    "#   \"DataType\", \"NullType\", \"StringType\", \"BinaryType\", \"BooleanType\", \"DateType\",\n",
    "#   \"TimestampType\", \"DecimalType\", \"DoubleType\", \"FloatType\", \"ByteType\", \"IntegerType\",\n",
    "#   \"LongType\", \"ShortType\", \"ArrayType\", \"MapType\", \"StructField\", \"StructType\"]"
   ]
  },
  {
   "cell_type": "code",
   "execution_count": 4,
   "id": "cooperative-fellowship",
   "metadata": {},
   "outputs": [],
   "source": [
    "schema = StructType([ \\\n",
    "    StructField(\"event_time\",TimestampType(),True),\\\n",
    "    StructField(\"event_type\",StringType(),False),\\\n",
    "    StructField(\"product_id\",IntegerType(),True),\\\n",
    "    StructField(\"category_id\", LongType(), True),\\\n",
    "    StructField(\"category_code\", StringType(), True),\\\n",
    "    StructField(\"brand\", StringType(), True),\\\n",
    "    StructField(\"price\", DoubleType(), True),\\\n",
    "    StructField(\"user_id\", IntegerType(), True),\\\n",
    "    StructField(\"user_session\", StringType(), True),\\\n",
    "  ])"
   ]
  },
  {
   "cell_type": "code",
   "execution_count": 5,
   "id": "continuing-battlefield",
   "metadata": {},
   "outputs": [],
   "source": [
    "df=spark.read.csv('local_part.csv', schema=schema, inferSchema=True) # Read the dataset"
   ]
  },
  {
   "cell_type": "code",
   "execution_count": null,
   "id": "healthy-silly",
   "metadata": {},
   "outputs": [],
   "source": []
  },
  {
   "cell_type": "code",
   "execution_count": 6,
   "id": "celtic-timeline",
   "metadata": {},
   "outputs": [
    {
     "name": "stdout",
     "output_type": "stream",
     "text": [
      "root\n",
      " |-- event_time: timestamp (nullable = true)\n",
      " |-- event_type: string (nullable = true)\n",
      " |-- product_id: integer (nullable = true)\n",
      " |-- category_id: long (nullable = true)\n",
      " |-- category_code: string (nullable = true)\n",
      " |-- brand: string (nullable = true)\n",
      " |-- price: double (nullable = true)\n",
      " |-- user_id: integer (nullable = true)\n",
      " |-- user_session: string (nullable = true)\n",
      "\n"
     ]
    }
   ],
   "source": [
    "df.printSchema()"
   ]
  },
  {
   "cell_type": "code",
   "execution_count": 7,
   "id": "recorded-salad",
   "metadata": {},
   "outputs": [
    {
     "name": "stdout",
     "output_type": "stream",
     "text": [
      "+-------------------+----------+----------+-------------------+--------------------+---------+------+---------+--------------------+\n",
      "|         event_time|event_type|product_id|        category_id|       category_code|    brand| price|  user_id|        user_session|\n",
      "+-------------------+----------+----------+-------------------+--------------------+---------+------+---------+--------------------+\n",
      "|2019-10-01 01:00:01|      view|   1307067|2053013558920217191|  computers.notebook|   lenovo|251.74|550050854|7c90fc70-0e80-459...|\n",
      "|2019-10-01 01:00:20|      view|   1003306|2053013555631882655|electronics.smart...|    apple|588.77|555446831|6ec635da-ea15-4a5...|\n",
      "|2019-10-01 01:00:25|      view|  27500014|2053013554692358509|                null|  redmond| 37.98|555217733|74d40a28-41f9-432...|\n",
      "|2019-10-01 01:00:31|      view|  28718079|2053013565362668491|  apparel.shoes.keds|  respect| 66.67|545323115|75fb5d0c-e907-429...|\n",
      "|2019-10-01 01:00:31|      view|   3900746|2053013552326770905|appliances.enviro...|    haier|102.38|555444559|98b88fa0-d8fa-4b9...|\n",
      "|2019-10-01 01:00:36|      view|  12712064|2053013553559896355|                null| triangle| 30.89|515454339|828dbd8e-8683-409...|\n",
      "|2019-10-01 01:00:41|      view|   1003141|2053013555631882655|electronics.smart...|    apple|382.97|551377651|ca11a570-47da-463...|\n",
      "|2019-10-01 01:00:46|      view|   4100126|2053013561218695907|                null|     sony|326.62|519885473|b70cb218-db90-401...|\n",
      "|2019-10-01 01:00:50|      view|  28717211|2053013565882762215|                null|  respect| 76.96|555447577|4337a670-6520-415...|\n",
      "|2019-10-01 01:01:08|      view|   1004659|2053013555631882655|electronics.smart...|  samsung|787.18|512558158|9a206ba2-37c7-435...|\n",
      "|2019-10-01 01:01:12|      view|  26500144|2053013563550729061|                null|  lucente|259.21|525856698|f72ea16b-4ec3-44f...|\n",
      "|2019-10-01 01:01:28|      view|   4300070|2053013552385491165|                null|  timberk| 38.59|544648245|bb8e28c8-d11f-428...|\n",
      "|2019-10-01 01:01:42|      view|   1004792|2053013555631882655|electronics.smart...|   xiaomi|456.45|513457407|d6f9a1f2-f96f-422...|\n",
      "|2019-10-01 01:01:42|      view|   1306631|2053013558920217191|  computers.notebook|       hp|580.89|550050854|7c90fc70-0e80-459...|\n",
      "|2019-10-01 01:01:44|      view|   1004321|2053013555631882655|electronics.smart...|   huawei|243.25|514336739|cccc58c1-4986-4d0...|\n",
      "|2019-10-01 01:01:47|      view|   1004545|2053013555631882655|electronics.smart...|   huawei|566.01|537918940|406c46ed-90a4-478...|\n",
      "|2019-10-01 01:01:50|      view|  28715758|2053013565069067197|  apparel.shoes.keds|  nexpero|107.85|555447570|99877fbe-d5a8-475...|\n",
      "|2019-10-01 01:01:58|      view|   4100274|2053013561218695907|                null|microsoft| 275.4|519885473|b70cb218-db90-401...|\n",
      "|2019-10-01 01:01:59|      view|   1004792|2053013555631882655|electronics.smart...|   xiaomi|456.45|516896785|4263d574-0b40-416...|\n",
      "|2019-10-01 01:02:05|      view|  26201000|2053013563693335403|                null|  lucente|106.31|555447748|b50d1ae8-1948-451...|\n",
      "+-------------------+----------+----------+-------------------+--------------------+---------+------+---------+--------------------+\n",
      "only showing top 20 rows\n",
      "\n"
     ]
    }
   ],
   "source": [
    "df.show()"
   ]
  },
  {
   "cell_type": "code",
   "execution_count": 8,
   "id": "talented-buyer",
   "metadata": {},
   "outputs": [
    {
     "name": "stdout",
     "output_type": "stream",
     "text": [
      "+---------+-----+\n",
      "|user_id  |count|\n",
      "+---------+-----+\n",
      "|512475445|806  |\n",
      "|512365995|421  |\n",
      "|526731152|306  |\n",
      "|513021392|293  |\n",
      "|512505687|283  |\n",
      "|546270188|258  |\n",
      "|546159478|257  |\n",
      "|516308435|253  |\n",
      "|514649263|240  |\n",
      "|551211823|238  |\n",
      "+---------+-----+\n",
      "only showing top 10 rows\n",
      "\n"
     ]
    }
   ],
   "source": [
    "# Users events count\n",
    "df.groupBy('user_id').count().orderBy('count',ascending=False).show(10,False)"
   ]
  },
  {
   "cell_type": "code",
   "execution_count": 9,
   "id": "together-diving",
   "metadata": {},
   "outputs": [
    {
     "name": "stdout",
     "output_type": "stream",
     "text": [
      "+----------+-----+\n",
      "|event_type|count|\n",
      "+----------+-----+\n",
      "|view      |806  |\n",
      "+----------+-----+\n",
      "\n"
     ]
    }
   ],
   "source": [
    "df.filter(df.user_id == 512475445).groupBy('event_type').count().orderBy('count',ascending=False).show(10,False)"
   ]
  },
  {
   "cell_type": "code",
   "execution_count": null,
   "id": "legal-arctic",
   "metadata": {},
   "outputs": [],
   "source": []
  },
  {
   "cell_type": "code",
   "execution_count": 10,
   "id": "smoking-syndication",
   "metadata": {},
   "outputs": [
    {
     "name": "stdout",
     "output_type": "stream",
     "text": [
      "+-------+------+\n",
      "|brand  |count |\n",
      "+-------+------+\n",
      "|null   |610994|\n",
      "|samsung|527583|\n",
      "|apple  |411810|\n",
      "|xiaomi |308436|\n",
      "|huawei |110888|\n",
      "|lucente|65673 |\n",
      "|lg     |56602 |\n",
      "|bosch  |56118 |\n",
      "|oppo   |48640 |\n",
      "|sony   |45535 |\n",
      "+-------+------+\n",
      "only showing top 10 rows\n",
      "\n"
     ]
    }
   ],
   "source": [
    "# brands events count\n",
    "df.groupBy('brand').count().orderBy('count',ascending=False).show(10,False)"
   ]
  },
  {
   "cell_type": "code",
   "execution_count": 11,
   "id": "supposed-governor",
   "metadata": {},
   "outputs": [
    {
     "name": "stdout",
     "output_type": "stream",
     "text": [
      "+----------+-------+\n",
      "|event_type|count  |\n",
      "+----------+-------+\n",
      "|view      |4078750|\n",
      "|cart      |92702  |\n",
      "|purchase  |74196  |\n",
      "+----------+-------+\n",
      "\n"
     ]
    }
   ],
   "source": [
    "# events count\n",
    "df.groupBy('event_type').count().orderBy('count',ascending=False).show(10,False)"
   ]
  },
  {
   "cell_type": "code",
   "execution_count": 12,
   "id": "international-brand",
   "metadata": {},
   "outputs": [
    {
     "name": "stderr",
     "output_type": "stream",
     "text": [
      "/opt/spark/python/pyspark/sql/dataframe.py:1894: UserWarning: to_replace is a dict and value is not None. value will be ignored.\n",
      "  warnings.warn(\"to_replace is a dict and value is not None. value will be ignored.\")\n"
     ]
    },
    {
     "name": "stdout",
     "output_type": "stream",
     "text": [
      "+----------+---------+----------+\n",
      "|event_type|  user_id|product_id|\n",
      "+----------+---------+----------+\n",
      "|         0|550050854|   1307067|\n",
      "|         0|555446831|   1003306|\n",
      "|         0|555217733|  27500014|\n",
      "|         0|545323115|  28718079|\n",
      "|         0|555444559|   3900746|\n",
      "|         0|515454339|  12712064|\n",
      "|         0|551377651|   1003141|\n",
      "|         0|519885473|   4100126|\n",
      "|         0|555447577|  28717211|\n",
      "|         0|512558158|   1004659|\n",
      "|         0|525856698|  26500144|\n",
      "|         0|544648245|   4300070|\n",
      "|         0|513457407|   1004792|\n",
      "|         0|550050854|   1306631|\n",
      "|         0|514336739|   1004321|\n",
      "|         0|537918940|   1004545|\n",
      "|         0|555447570|  28715758|\n",
      "|         0|519885473|   4100274|\n",
      "|         0|516896785|   1004792|\n",
      "|         0|555447748|  26201000|\n",
      "+----------+---------+----------+\n",
      "only showing top 20 rows\n",
      "\n"
     ]
    }
   ],
   "source": [
    "# convert event_type to raiting such us purchase = 1, view and chart = 0\n",
    "# so if user bought item, he \"rated\" it\n",
    "dictionary = {\"purchase\": \"1\", \"view\": \"0\", \"cart\": \"0\"}\n",
    "df2 = df.na.replace(dictionary,\"event_type\")\n",
    "#df2.show()\n",
    "\n",
    "# cast to integer\n",
    "df_data = df2.select(df2[\"event_type\"].cast(IntegerType()), df2[\"user_id\"], df2[\"product_id\"]) \n",
    "df_data.show()"
   ]
  },
  {
   "cell_type": "code",
   "execution_count": 13,
   "id": "understanding-moderator",
   "metadata": {},
   "outputs": [
    {
     "name": "stdout",
     "output_type": "stream",
     "text": [
      "+----------+-------+\n",
      "|event_type|count  |\n",
      "+----------+-------+\n",
      "|0         |4171452|\n",
      "|1         |74196  |\n",
      "+----------+-------+\n",
      "\n"
     ]
    }
   ],
   "source": [
    "# let's check\n",
    "df_data.groupBy('event_type').count().orderBy('count',ascending=False).show(10,False)"
   ]
  },
  {
   "cell_type": "code",
   "execution_count": 14,
   "id": "technological-crossing",
   "metadata": {},
   "outputs": [],
   "source": [
    "# splitting dataset\n",
    "train,test=df_data.randomSplit(weights = [0.8,0.2], seed = 10)"
   ]
  },
  {
   "cell_type": "code",
   "execution_count": 15,
   "id": "declared-practitioner",
   "metadata": {},
   "outputs": [
    {
     "name": "stdout",
     "output_type": "stream",
     "text": [
      "3395720\n",
      "849928\n"
     ]
    }
   ],
   "source": [
    "print(train.count())\n",
    "print(test.count())"
   ]
  },
  {
   "cell_type": "code",
   "execution_count": 16,
   "id": "light-slovak",
   "metadata": {},
   "outputs": [],
   "source": [
    "# set up a model\n",
    "recomend=ALS(\\\n",
    "    maxIter=3,\\\n",
    "    regParam=0.5,\\\n",
    "    implicitPrefs=True,\\\n",
    "    alpha=0.9,\\\n",
    "    userCol='user_id',\\\n",
    "    itemCol='product_id',\\\n",
    "    ratingCol='event_type',\\\n",
    "    nonnegative=True,\\\n",
    "    coldStartStrategy=\"drop\"\\\n",
    ")"
   ]
  },
  {
   "cell_type": "code",
   "execution_count": 17,
   "id": "golden-sally",
   "metadata": {},
   "outputs": [],
   "source": [
    "# train the model\n",
    "recomend_model=recomend.fit(train)"
   ]
  },
  {
   "cell_type": "code",
   "execution_count": null,
   "id": "fatal-token",
   "metadata": {},
   "outputs": [],
   "source": []
  },
  {
   "cell_type": "code",
   "execution_count": null,
   "id": "asian-religious",
   "metadata": {},
   "outputs": [],
   "source": []
  },
  {
   "cell_type": "code",
   "execution_count": null,
   "id": "blond-geology",
   "metadata": {},
   "outputs": [],
   "source": []
  },
  {
   "cell_type": "code",
   "execution_count": 18,
   "id": "muslim-turkey",
   "metadata": {},
   "outputs": [],
   "source": [
    "# make predictions on test\n",
    "predicted_ratings=recomend_model.transform(test)"
   ]
  },
  {
   "cell_type": "code",
   "execution_count": 19,
   "id": "pacific-living",
   "metadata": {},
   "outputs": [],
   "source": [
    "# predicted_ratings.printSchema()"
   ]
  },
  {
   "cell_type": "code",
   "execution_count": 20,
   "id": "cellular-diagram",
   "metadata": {},
   "outputs": [
    {
     "name": "stdout",
     "output_type": "stream",
     "text": [
      "+----------+---------+----------+------------+\n",
      "|event_type|  user_id|product_id|  prediction|\n",
      "+----------+---------+----------+------------+\n",
      "|         1|512492404|   4804055|         0.0|\n",
      "|         1|514119878|   4700422|         0.0|\n",
      "|         1|513102832|   6100216|         0.0|\n",
      "|         1|522197947|   1005205|5.7550933E-4|\n",
      "|         1|558029983|   1004237|         0.0|\n",
      "|         1|554025548|   5100576|         0.0|\n",
      "|         1|517611413|   4804055|         0.0|\n",
      "|         1|536901707|  15700078|         0.0|\n",
      "|         1|520665320|  14701435|         0.0|\n",
      "|         1|518845114|   1004240|         0.0|\n",
      "+----------+---------+----------+------------+\n",
      "only showing top 10 rows\n",
      "\n"
     ]
    }
   ],
   "source": [
    "# show some predictions\n",
    "predicted_ratings.filter(predicted_ratings.event_type == 1).orderBy(rand()).show(10)"
   ]
  },
  {
   "cell_type": "code",
   "execution_count": 21,
   "id": "practical-optics",
   "metadata": {},
   "outputs": [],
   "source": [
    "# set up evaluator with Root Mean Square Error\n",
    "evaluator=RegressionEvaluator(metricName='rmse',predictionCol='prediction',labelCol='event_type')"
   ]
  },
  {
   "cell_type": "code",
   "execution_count": 22,
   "id": "selected-zoning",
   "metadata": {},
   "outputs": [
    {
     "name": "stdout",
     "output_type": "stream",
     "text": [
      "0.13331617684682437\n"
     ]
    }
   ],
   "source": [
    "rmse=evaluator.evaluate(predicted_ratings)\n",
    "# explicit - 100 - 1 - 0\n",
    "# 20.390250369964022 - maxIter = 10\n",
    "# 28.886748140963718 - maxIter = 3\n",
    "\n",
    "# implicit\n",
    "print(rmse)"
   ]
  },
  {
   "cell_type": "code",
   "execution_count": 23,
   "id": "reasonable-reality",
   "metadata": {},
   "outputs": [
    {
     "name": "stdout",
     "output_type": "stream",
     "text": [
      "125057\n"
     ]
    }
   ],
   "source": [
    "# number of unic products as items\n",
    "unique_items=df_data.select('product_id').selectExpr(\"product_id as product_id_1\").distinct()\n",
    "print(unique_items.count())"
   ]
  },
  {
   "cell_type": "code",
   "execution_count": 24,
   "id": "specific-miller",
   "metadata": {},
   "outputs": [],
   "source": [
    "# user id for making recommendations\n",
    "user_id=526731152"
   ]
  },
  {
   "cell_type": "code",
   "execution_count": 25,
   "id": "funded-remainder",
   "metadata": {},
   "outputs": [],
   "source": [
    "# number of products user interact\n",
    "purchased_items=df_data.filter(df_data['user_id'] ==  user_id).select('product_id').distinct()  "
   ]
  },
  {
   "cell_type": "code",
   "execution_count": 26,
   "id": "designed-check",
   "metadata": {},
   "outputs": [
    {
     "name": "stdout",
     "output_type": "stream",
     "text": [
      "112\n"
     ]
    }
   ],
   "source": [
    "print(purchased_items.count())"
   ]
  },
  {
   "cell_type": "code",
   "execution_count": 27,
   "id": "massive-village",
   "metadata": {},
   "outputs": [
    {
     "name": "stdout",
     "output_type": "stream",
     "text": [
      "125057\n"
     ]
    }
   ],
   "source": [
    "# join purchaised and all items\n",
    "total_items = unique_items.join(\\\n",
    "                            purchased_items,\\\n",
    "                            unique_items.product_id_1 == purchased_items.product_id,\\\n",
    "                            how='left'\\\n",
    "                            )\n",
    "print(total_items.count())"
   ]
  },
  {
   "cell_type": "code",
   "execution_count": 28,
   "id": "grateful-colon",
   "metadata": {},
   "outputs": [
    {
     "name": "stdout",
     "output_type": "stream",
     "text": [
      "+------------+----------+\n",
      "|product_id_1|product_id|\n",
      "+------------+----------+\n",
      "|1003938     |null      |\n",
      "|1004666     |null      |\n",
      "|1004739     |null      |\n",
      "|1005158     |null      |\n",
      "|1201512     |null      |\n",
      "|1305803     |null      |\n",
      "|1306176     |null      |\n",
      "|1307005     |null      |\n",
      "|1307184     |null      |\n",
      "|1307463     |null      |\n",
      "+------------+----------+\n",
      "only showing top 10 rows\n",
      "\n"
     ]
    }
   ],
   "source": [
    "total_items.show(10,False)"
   ]
  },
  {
   "cell_type": "code",
   "execution_count": 29,
   "id": "introductory-emergency",
   "metadata": {},
   "outputs": [
    {
     "name": "stdout",
     "output_type": "stream",
     "text": [
      "124945\n"
     ]
    }
   ],
   "source": [
    "# select items that user didnt purchaise\n",
    "remaining_items=total_items.where(col(\"product_id\").isNull()).select(unique_items.product_id_1).distinct()\n",
    "print(remaining_items.count())"
   ]
  },
  {
   "cell_type": "code",
   "execution_count": 30,
   "id": "mental-malpractice",
   "metadata": {},
   "outputs": [],
   "source": [
    "# add user_it col\n",
    "remaining_items=remaining_items.withColumn(\"user_id\",lit(int(user_id))).selectExpr(\"product_id_1 as product_id\",\"user_id as user_id\")"
   ]
  },
  {
   "cell_type": "code",
   "execution_count": 31,
   "id": "stupid-virgin",
   "metadata": {},
   "outputs": [
    {
     "name": "stdout",
     "output_type": "stream",
     "text": [
      "+----------+---------+\n",
      "|product_id|user_id  |\n",
      "+----------+---------+\n",
      "|1003938   |526731152|\n",
      "|1004666   |526731152|\n",
      "|1004739   |526731152|\n",
      "|1005158   |526731152|\n",
      "|1201512   |526731152|\n",
      "|1305803   |526731152|\n",
      "|1306176   |526731152|\n",
      "|1307005   |526731152|\n",
      "|1307184   |526731152|\n",
      "|1307463   |526731152|\n",
      "+----------+---------+\n",
      "only showing top 10 rows\n",
      "\n"
     ]
    }
   ],
   "source": [
    "remaining_items.show(10,False)"
   ]
  },
  {
   "cell_type": "code",
   "execution_count": 32,
   "id": "identified-cruise",
   "metadata": {},
   "outputs": [],
   "source": [
    "# get the predictions\n",
    "predictions = recomend_model.transform(remaining_items).collect()"
   ]
  },
  {
   "cell_type": "code",
   "execution_count": 33,
   "id": "incident-saskatchewan",
   "metadata": {},
   "outputs": [],
   "source": [
    "recommendations=recomend_model.transform(remaining_items).orderBy('prediction',ascending=False)"
   ]
  },
  {
   "cell_type": "code",
   "execution_count": 34,
   "id": "orange-isaac",
   "metadata": {},
   "outputs": [
    {
     "name": "stdout",
     "output_type": "stream",
     "text": [
      "+----------+---------+----------+\n",
      "|product_id|  user_id|prediction|\n",
      "+----------+---------+----------+\n",
      "|   1003051|526731152|       0.0|\n",
      "|   1004324|526731152|       0.0|\n",
      "|   1004441|526731152|       0.0|\n",
      "|   1004867|526731152|       0.0|\n",
      "|   1005133|526731152|       0.0|\n",
      "|   1201471|526731152|       0.0|\n",
      "|   1304411|526731152|       0.0|\n",
      "|   1306249|526731152|       0.0|\n",
      "|   1306312|526731152|       0.0|\n",
      "|   1306436|526731152|       0.0|\n",
      "|   1306648|526731152|       0.0|\n",
      "|   1307039|526731152|       0.0|\n",
      "|   1801604|526731152|       0.0|\n",
      "|   1801689|526731152|       0.0|\n",
      "|   1801691|526731152|       0.0|\n",
      "|   1801789|526731152|       0.0|\n",
      "|   1801816|526731152|       0.0|\n",
      "|   2240015|526731152|       0.0|\n",
      "|   2240020|526731152|       0.0|\n",
      "|   2400604|526731152|       0.0|\n",
      "+----------+---------+----------+\n",
      "only showing top 20 rows\n",
      "\n"
     ]
    }
   ],
   "source": [
    "recommendations.show()"
   ]
  },
  {
   "cell_type": "code",
   "execution_count": null,
   "id": "complete-lyric",
   "metadata": {},
   "outputs": [],
   "source": []
  }
 ],
 "metadata": {
  "kernelspec": {
   "display_name": "PySpark",
   "language": "python",
   "name": "pyspark"
  },
  "language_info": {
   "codemirror_mode": {
    "name": "ipython",
    "version": 3
   },
   "file_extension": ".py",
   "mimetype": "text/x-python",
   "name": "python",
   "nbconvert_exporter": "python",
   "pygments_lexer": "ipython3",
   "version": "3.8.5"
  }
 },
 "nbformat": 4,
 "nbformat_minor": 5
}
