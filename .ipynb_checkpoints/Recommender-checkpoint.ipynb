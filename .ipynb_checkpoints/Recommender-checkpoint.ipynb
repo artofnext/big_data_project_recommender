{
 "cells": [
  {
   "cell_type": "code",
   "execution_count": 1,
   "id": "marked-logic",
   "metadata": {},
   "outputs": [],
   "source": [
    "from pyspark.sql.functions import rand\n",
    "from pyspark.ml.feature import StringIndexer, IndexToString\n",
    "from pyspark.ml.recommendation import ALS\n",
    "from pyspark.ml.evaluation import RegressionEvaluator\n",
    "from pyspark.sql.functions import col, lit\n",
    "from pyspark.sql.types import StructType, StructField, StringType, IntegerType, LongType, DoubleType, TimestampType"
   ]
  },
  {
   "cell_type": "code",
   "execution_count": 2,
   "id": "literary-pastor",
   "metadata": {},
   "outputs": [
    {
     "name": "stdout",
     "output_type": "stream",
     "text": [
      "total 1115100\r\n",
      "drwxrwxr-x  4 big big      4096 May 12 15:05 .\r\n",
      "drwxr-xr-x 33 big big      4096 May 12 14:59 ..\r\n",
      "drwxrwxr-x  8 big big      4096 May 12 13:49 .git\r\n",
      "-rw-rw-r--  1 big big         6 May  8 20:47 .gitignore\r\n",
      "drwxrwxr-x  2 big big      4096 May 11 21:44 .ipynb_checkpoints\r\n",
      "-rw-rw-r--  1 big big 570895494 May  8 17:13 local_part.csv\r\n",
      "-rw-r--r--  1 big big 171002105 May 11 21:13 local_test.csv\r\n",
      "-rw-r--r--  1 big big 399893389 May 11 21:13 local_train.csv\r\n",
      "-rw-rw-r--  1 big big      3714 May 11 22:18 Preare_data.ipynb\r\n",
      "-rw-rw-r--  1 big big     28156 May 12 15:05 Recommender.ipynb\r\n"
     ]
    }
   ],
   "source": [
    "! ls -la"
   ]
  },
  {
   "cell_type": "code",
   "execution_count": 3,
   "id": "amended-behalf",
   "metadata": {},
   "outputs": [],
   "source": [
    "# all field types reference\n",
    "#__all__ = [\n",
    "#   \"DataType\", \"NullType\", \"StringType\", \"BinaryType\", \"BooleanType\", \"DateType\",\n",
    "#   \"TimestampType\", \"DecimalType\", \"DoubleType\", \"FloatType\", \"ByteType\", \"IntegerType\",\n",
    "#   \"LongType\", \"ShortType\", \"ArrayType\", \"MapType\", \"StructField\", \"StructType\"]"
   ]
  },
  {
   "cell_type": "code",
   "execution_count": 4,
   "id": "cooperative-fellowship",
   "metadata": {},
   "outputs": [],
   "source": [
    "schema = StructType([ \\\n",
    "    StructField(\"event_time\",TimestampType(),True),\\\n",
    "    StructField(\"event_type\",StringType(),False),\\\n",
    "    StructField(\"product_id\",IntegerType(),True),\\\n",
    "    StructField(\"category_id\", LongType(), True),\\\n",
    "    StructField(\"category_code\", StringType(), True),\\\n",
    "    StructField(\"brand\", StringType(), True),\\\n",
    "    StructField(\"price\", DoubleType(), True),\\\n",
    "    StructField(\"user_id\", IntegerType(), True),\\\n",
    "    StructField(\"user_session\", StringType(), True),\\\n",
    "  ])"
   ]
  },
  {
   "cell_type": "code",
   "execution_count": 5,
   "id": "continuing-battlefield",
   "metadata": {},
   "outputs": [],
   "source": [
    "df=spark.read.csv('local_part.csv', schema=schema, inferSchema=True) # Read the dataset"
   ]
  },
  {
   "cell_type": "code",
   "execution_count": null,
   "id": "healthy-silly",
   "metadata": {},
   "outputs": [],
   "source": []
  },
  {
   "cell_type": "code",
   "execution_count": 6,
   "id": "celtic-timeline",
   "metadata": {},
   "outputs": [
    {
     "name": "stdout",
     "output_type": "stream",
     "text": [
      "root\n",
      " |-- event_time: timestamp (nullable = true)\n",
      " |-- event_type: string (nullable = true)\n",
      " |-- product_id: integer (nullable = true)\n",
      " |-- category_id: long (nullable = true)\n",
      " |-- category_code: string (nullable = true)\n",
      " |-- brand: string (nullable = true)\n",
      " |-- price: double (nullable = true)\n",
      " |-- user_id: integer (nullable = true)\n",
      " |-- user_session: string (nullable = true)\n",
      "\n"
     ]
    }
   ],
   "source": [
    "df.printSchema()"
   ]
  },
  {
   "cell_type": "code",
   "execution_count": 7,
   "id": "recorded-salad",
   "metadata": {},
   "outputs": [
    {
     "name": "stdout",
     "output_type": "stream",
     "text": [
      "+-------------------+----------+----------+-------------------+--------------------+---------+------+---------+--------------------+\n",
      "|         event_time|event_type|product_id|        category_id|       category_code|    brand| price|  user_id|        user_session|\n",
      "+-------------------+----------+----------+-------------------+--------------------+---------+------+---------+--------------------+\n",
      "|2019-10-01 01:00:01|      view|   1307067|2053013558920217191|  computers.notebook|   lenovo|251.74|550050854|7c90fc70-0e80-459...|\n",
      "|2019-10-01 01:00:20|      view|   1003306|2053013555631882655|electronics.smart...|    apple|588.77|555446831|6ec635da-ea15-4a5...|\n",
      "|2019-10-01 01:00:25|      view|  27500014|2053013554692358509|                null|  redmond| 37.98|555217733|74d40a28-41f9-432...|\n",
      "|2019-10-01 01:00:31|      view|  28718079|2053013565362668491|  apparel.shoes.keds|  respect| 66.67|545323115|75fb5d0c-e907-429...|\n",
      "|2019-10-01 01:00:31|      view|   3900746|2053013552326770905|appliances.enviro...|    haier|102.38|555444559|98b88fa0-d8fa-4b9...|\n",
      "|2019-10-01 01:00:36|      view|  12712064|2053013553559896355|                null| triangle| 30.89|515454339|828dbd8e-8683-409...|\n",
      "|2019-10-01 01:00:41|      view|   1003141|2053013555631882655|electronics.smart...|    apple|382.97|551377651|ca11a570-47da-463...|\n",
      "|2019-10-01 01:00:46|      view|   4100126|2053013561218695907|                null|     sony|326.62|519885473|b70cb218-db90-401...|\n",
      "|2019-10-01 01:00:50|      view|  28717211|2053013565882762215|                null|  respect| 76.96|555447577|4337a670-6520-415...|\n",
      "|2019-10-01 01:01:08|      view|   1004659|2053013555631882655|electronics.smart...|  samsung|787.18|512558158|9a206ba2-37c7-435...|\n",
      "|2019-10-01 01:01:12|      view|  26500144|2053013563550729061|                null|  lucente|259.21|525856698|f72ea16b-4ec3-44f...|\n",
      "|2019-10-01 01:01:28|      view|   4300070|2053013552385491165|                null|  timberk| 38.59|544648245|bb8e28c8-d11f-428...|\n",
      "|2019-10-01 01:01:42|      view|   1004792|2053013555631882655|electronics.smart...|   xiaomi|456.45|513457407|d6f9a1f2-f96f-422...|\n",
      "|2019-10-01 01:01:42|      view|   1306631|2053013558920217191|  computers.notebook|       hp|580.89|550050854|7c90fc70-0e80-459...|\n",
      "|2019-10-01 01:01:44|      view|   1004321|2053013555631882655|electronics.smart...|   huawei|243.25|514336739|cccc58c1-4986-4d0...|\n",
      "|2019-10-01 01:01:47|      view|   1004545|2053013555631882655|electronics.smart...|   huawei|566.01|537918940|406c46ed-90a4-478...|\n",
      "|2019-10-01 01:01:50|      view|  28715758|2053013565069067197|  apparel.shoes.keds|  nexpero|107.85|555447570|99877fbe-d5a8-475...|\n",
      "|2019-10-01 01:01:58|      view|   4100274|2053013561218695907|                null|microsoft| 275.4|519885473|b70cb218-db90-401...|\n",
      "|2019-10-01 01:01:59|      view|   1004792|2053013555631882655|electronics.smart...|   xiaomi|456.45|516896785|4263d574-0b40-416...|\n",
      "|2019-10-01 01:02:05|      view|  26201000|2053013563693335403|                null|  lucente|106.31|555447748|b50d1ae8-1948-451...|\n",
      "+-------------------+----------+----------+-------------------+--------------------+---------+------+---------+--------------------+\n",
      "only showing top 20 rows\n",
      "\n"
     ]
    }
   ],
   "source": [
    "df.show()"
   ]
  },
  {
   "cell_type": "code",
   "execution_count": 8,
   "id": "talented-buyer",
   "metadata": {},
   "outputs": [
    {
     "name": "stdout",
     "output_type": "stream",
     "text": [
      "+---------+-----+\n",
      "|user_id  |count|\n",
      "+---------+-----+\n",
      "|512475445|806  |\n",
      "|512365995|421  |\n",
      "|526731152|306  |\n",
      "|513021392|293  |\n",
      "|512505687|283  |\n",
      "|546270188|258  |\n",
      "|546159478|257  |\n",
      "|516308435|253  |\n",
      "|514649263|240  |\n",
      "|551211823|238  |\n",
      "+---------+-----+\n",
      "only showing top 10 rows\n",
      "\n"
     ]
    }
   ],
   "source": [
    "# Users events count\n",
    "df.groupBy('user_id').count().orderBy('count',ascending=False).show(10,False)"
   ]
  },
  {
   "cell_type": "code",
   "execution_count": 9,
   "id": "together-diving",
   "metadata": {},
   "outputs": [
    {
     "name": "stdout",
     "output_type": "stream",
     "text": [
      "+----------+-----+\n",
      "|event_type|count|\n",
      "+----------+-----+\n",
      "|view      |806  |\n",
      "+----------+-----+\n",
      "\n"
     ]
    }
   ],
   "source": [
    "df.filter(df.user_id == 512475445).groupBy('event_type').count().orderBy('count',ascending=False).show(10,False)"
   ]
  },
  {
   "cell_type": "code",
   "execution_count": null,
   "id": "legal-arctic",
   "metadata": {},
   "outputs": [],
   "source": []
  },
  {
   "cell_type": "code",
   "execution_count": 10,
   "id": "smoking-syndication",
   "metadata": {},
   "outputs": [
    {
     "name": "stdout",
     "output_type": "stream",
     "text": [
      "+-------+------+\n",
      "|brand  |count |\n",
      "+-------+------+\n",
      "|null   |610994|\n",
      "|samsung|527583|\n",
      "|apple  |411810|\n",
      "|xiaomi |308436|\n",
      "|huawei |110888|\n",
      "|lucente|65673 |\n",
      "|lg     |56602 |\n",
      "|bosch  |56118 |\n",
      "|oppo   |48640 |\n",
      "|sony   |45535 |\n",
      "+-------+------+\n",
      "only showing top 10 rows\n",
      "\n"
     ]
    }
   ],
   "source": [
    "# brands events count\n",
    "df.groupBy('brand').count().orderBy('count',ascending=False).show(10,False)"
   ]
  },
  {
   "cell_type": "code",
   "execution_count": 11,
   "id": "supposed-governor",
   "metadata": {},
   "outputs": [
    {
     "name": "stdout",
     "output_type": "stream",
     "text": [
      "+----------+-------+\n",
      "|event_type|count  |\n",
      "+----------+-------+\n",
      "|view      |4078750|\n",
      "|cart      |92702  |\n",
      "|purchase  |74196  |\n",
      "+----------+-------+\n",
      "\n"
     ]
    }
   ],
   "source": [
    "# events count\n",
    "df.groupBy('event_type').count().orderBy('count',ascending=False).show(10,False)"
   ]
  },
  {
   "cell_type": "code",
   "execution_count": 12,
   "id": "international-brand",
   "metadata": {},
   "outputs": [
    {
     "name": "stderr",
     "output_type": "stream",
     "text": [
      "/opt/spark/python/pyspark/sql/dataframe.py:1894: UserWarning: to_replace is a dict and value is not None. value will be ignored.\n",
      "  warnings.warn(\"to_replace is a dict and value is not None. value will be ignored.\")\n"
     ]
    },
    {
     "name": "stdout",
     "output_type": "stream",
     "text": [
      "+----------+---------+----------+\n",
      "|event_type|  user_id|product_id|\n",
      "+----------+---------+----------+\n",
      "|         0|550050854|   1307067|\n",
      "|         0|555446831|   1003306|\n",
      "|         0|555217733|  27500014|\n",
      "|         0|545323115|  28718079|\n",
      "|         0|555444559|   3900746|\n",
      "|         0|515454339|  12712064|\n",
      "|         0|551377651|   1003141|\n",
      "|         0|519885473|   4100126|\n",
      "|         0|555447577|  28717211|\n",
      "|         0|512558158|   1004659|\n",
      "|         0|525856698|  26500144|\n",
      "|         0|544648245|   4300070|\n",
      "|         0|513457407|   1004792|\n",
      "|         0|550050854|   1306631|\n",
      "|         0|514336739|   1004321|\n",
      "|         0|537918940|   1004545|\n",
      "|         0|555447570|  28715758|\n",
      "|         0|519885473|   4100274|\n",
      "|         0|516896785|   1004792|\n",
      "|         0|555447748|  26201000|\n",
      "+----------+---------+----------+\n",
      "only showing top 20 rows\n",
      "\n"
     ]
    }
   ],
   "source": [
    "# convert event_type to raiting such us purchase = 1, view and chart = 0\n",
    "# so if user bought item, he \"rated\" it\n",
    "dictionary = {\"purchase\": \"1\", \"view\": null, \"cart\": null}\n",
    "df2 = df.na.replace(dictionary,\"event_type\")\n",
    "#df2.show()\n",
    "\n",
    "# cast to integer\n",
    "df_data = df2.select(df2[\"event_type\"].cast(IntegerType()), df2[\"user_id\"], df2[\"product_id\"]) \n",
    "df_data.show()"
   ]
  },
  {
   "cell_type": "code",
   "execution_count": 13,
   "id": "understanding-moderator",
   "metadata": {},
   "outputs": [
    {
     "name": "stdout",
     "output_type": "stream",
     "text": [
      "+----------+-------+\n",
      "|event_type|count  |\n",
      "+----------+-------+\n",
      "|0         |4171452|\n",
      "|1         |74196  |\n",
      "+----------+-------+\n",
      "\n"
     ]
    }
   ],
   "source": [
    "# let's check\n",
    "df_data.groupBy('event_type').count().orderBy('count',ascending=False).show(10,False)"
   ]
  },
  {
   "cell_type": "code",
   "execution_count": 14,
   "id": "technological-crossing",
   "metadata": {},
   "outputs": [],
   "source": [
    "# splitting dataset\n",
    "train,test=df_data.randomSplit(weights = [0.8,0.2], seed = 10)"
   ]
  },
  {
   "cell_type": "code",
   "execution_count": 15,
   "id": "declared-practitioner",
   "metadata": {},
   "outputs": [
    {
     "name": "stdout",
     "output_type": "stream",
     "text": [
      "3395720\n",
      "849928\n"
     ]
    }
   ],
   "source": [
    "print(train.count())\n",
    "print(test.count())"
   ]
  },
  {
   "cell_type": "code",
   "execution_count": 50,
   "id": "light-slovak",
   "metadata": {},
   "outputs": [],
   "source": [
    "# set up a model\n",
    "recomend=ALS(\\\n",
    "    maxIter=10,\\\n",
    "    regParam=0.01,\\\n",
    "    userCol='event_type',\\\n",
    "    itemCol='product_id',\\\n",
    "    ratingCol='event_type',\\\n",
    "    nonnegative=True,\\\n",
    "    coldStartStrategy=\"drop\"\\\n",
    ")"
   ]
  },
  {
   "cell_type": "code",
   "execution_count": 51,
   "id": "golden-sally",
   "metadata": {},
   "outputs": [],
   "source": [
    "# train the model\n",
    "recomend_model=recomend.fit(train)"
   ]
  },
  {
   "cell_type": "code",
   "execution_count": 52,
   "id": "muslim-turkey",
   "metadata": {},
   "outputs": [],
   "source": [
    "# make predictions on test\n",
    "predicted_ratings=recomend_model.transform(test)"
   ]
  },
  {
   "cell_type": "code",
   "execution_count": 53,
   "id": "pacific-living",
   "metadata": {},
   "outputs": [
    {
     "name": "stdout",
     "output_type": "stream",
     "text": [
      "root\n",
      " |-- event_type: integer (nullable = true)\n",
      " |-- user_id: integer (nullable = true)\n",
      " |-- product_id: integer (nullable = true)\n",
      " |-- prediction: float (nullable = false)\n",
      "\n"
     ]
    }
   ],
   "source": [
    "predicted_ratings.printSchema()"
   ]
  },
  {
   "cell_type": "code",
   "execution_count": 54,
   "id": "cellular-diagram",
   "metadata": {},
   "outputs": [
    {
     "name": "stdout",
     "output_type": "stream",
     "text": [
      "+----------+---------+----------+----------+\n",
      "|event_type|  user_id|product_id|prediction|\n",
      "+----------+---------+----------+----------+\n",
      "|         1|514337948|   1004794| 0.9284091|\n",
      "|         1|563995085|   5301208|       0.0|\n",
      "|         1|516464912|   1004874|  0.948839|\n",
      "|         1|563673967|   1004856| 0.9847701|\n",
      "|         1|556400864|   1003304|0.95641303|\n",
      "|         1|557902113|   2501069|0.92486334|\n",
      "|         1|535992455|  13800104| 0.9947581|\n",
      "|         1|550751243|   1004749|0.95452905|\n",
      "|         1|514453876|  17300353| 0.9341769|\n",
      "|         1|514463645|   4804056| 0.9849363|\n",
      "|         1|513615746|   1005115| 0.9641216|\n",
      "|         1|557662839|   5100572|0.96119285|\n",
      "|         1|513997061|   4804056| 0.9849363|\n",
      "|         1|513585653|   1004566| 0.9628279|\n",
      "|         1|514556889|   1005007| 0.9365121|\n",
      "|         1|529197680|   1002544|0.97777504|\n",
      "|         1|528154831|   5100855|0.94365865|\n",
      "|         1|557776416|  26201192|0.92416143|\n",
      "|         1|514985422|   2240112|  0.995775|\n",
      "|         1|547817986|   1004227| 0.9569796|\n",
      "|         1|564407296|   1005014|0.91592735|\n",
      "|         1|558446007|  12718252|       0.0|\n",
      "|         1|514701718|   5100816| 0.9667092|\n",
      "|         1|558935667|   1005112| 0.9627283|\n",
      "|         1|519267847|   3600661|0.93463254|\n",
      "|         1|513011856|  27300013|       0.0|\n",
      "|         1|514191620|   3900774|0.93552274|\n",
      "|         1|516219620|   1004856| 0.9847701|\n",
      "|         1|562462289|  29501508|0.86568195|\n",
      "|         1|565589029|  22800006|       0.0|\n",
      "|         1|524710562|   1004741| 0.9556987|\n",
      "|         1|539313881|   1004834| 0.9728137|\n",
      "|         1|548274498|   2602014| 0.7847761|\n",
      "|         1|518957516|   1801881| 0.9427666|\n",
      "|         1|550968904|   1005007| 0.9365121|\n",
      "|         1|514893067|   1004870|0.97875834|\n",
      "|         1|526672653|  28900019|       0.0|\n",
      "|         1|523540918|   1004856| 0.9847701|\n",
      "|         1|553698588|   3200361| 0.8225508|\n",
      "|         1|557028438|   1005105|0.95931315|\n",
      "|         1|524751639|   6200035|0.96518695|\n",
      "|         1|554069907|   1005209| 0.9657996|\n",
      "|         1|557430804|  15200893|       0.0|\n",
      "|         1|532246224|   1003306| 0.9639059|\n",
      "|         1|516273463|  12600004|       0.0|\n",
      "|         1|553353155|   1004249|0.96799856|\n",
      "|         1|545354641|   1801960| 0.9576901|\n",
      "|         1|551128338|   5100721| 0.8384823|\n",
      "|         1|512521049|  15800081|       0.0|\n",
      "|         1|512885100|   1701111|0.84174293|\n",
      "|         1|531518157|   2702582|       0.0|\n",
      "|         1|552718372|   1201229|  0.921364|\n",
      "|         1|561837266|   1004873|0.96722466|\n",
      "|         1|513864272|   4100151|0.96890354|\n",
      "|         1|519133881|  10900258|0.88777393|\n",
      "|         1|529952667|   1005099|0.96854615|\n",
      "|         1|551093021|   1004873|0.96722466|\n",
      "|         1|526249790|   1004857| 0.9712336|\n",
      "|         1|530544740|   1004767| 0.9774326|\n",
      "|         1|521731040|   1004856| 0.9847701|\n",
      "|         1|539522914|   9300067|0.90449715|\n",
      "|         1|522815692|   1005118| 0.9567599|\n",
      "|         1|512668939|   1005115| 0.9641216|\n",
      "|         1|558267623|   1200947|0.96016747|\n",
      "|         1|560818371|  26300032|0.93475324|\n",
      "|         1|515342472|   1005074|0.94557756|\n",
      "|         1|554232477|   4100346| 0.9621444|\n",
      "|         1|558768364|   1002528| 0.9378497|\n",
      "|         1|520663129|   8801085| 0.9626831|\n",
      "|         1|514019176|   2800477| 0.9045931|\n",
      "|         1|560722579|   1005127|0.97770077|\n",
      "|         1|554585492|   1600445|       0.0|\n",
      "|         1|542124428|   1004835|0.96536416|\n",
      "|         1|513076603|  28719468|       0.0|\n",
      "|         1|521517136|  13201002| 0.8107969|\n",
      "|         1|513780318|   1005117| 0.9641582|\n",
      "|         1|519468511|   1004246| 0.9680204|\n",
      "|         1|512497760|  41600018|0.80821806|\n",
      "|         1|543615969|   1005104| 0.9505186|\n",
      "|         1|546761395|   6902655|0.98370737|\n",
      "|         1|559908995|   4804295| 0.9533562|\n",
      "|         1|548951806|   1004795| 0.9148963|\n",
      "|         1|554528192|   1004856| 0.9847701|\n",
      "|         1|561689251|   1004858| 0.9749985|\n",
      "|         1|515962328|   6300680| 0.9287114|\n",
      "|         1|513958116|  12711997|       0.0|\n",
      "|         1|515761606|   1801805| 0.9482734|\n",
      "|         1|563283746|  34800580|       0.0|\n",
      "|         1|534141316|  22700065| 0.7817528|\n",
      "|         1|535318184|   5100566| 0.9749602|\n",
      "|         1|546732604|  12100045| 0.8087933|\n",
      "|         1|536020436|   1004565| 0.9591122|\n",
      "|         1|544354418|   4804056| 0.9849363|\n",
      "|         1|548473720|   1002544|0.97777504|\n",
      "|         1|513922321|  15200297|  0.963278|\n",
      "|         1|512629092|   1002524|0.97878665|\n",
      "|         1|559155572|   1004565| 0.9591122|\n",
      "|         1|560721548|   2601860| 0.9217128|\n",
      "|         1|521712277|  26400386|0.94735116|\n",
      "|         1|558421385|   1002544|0.97777504|\n",
      "+----------+---------+----------+----------+\n",
      "only showing top 100 rows\n",
      "\n"
     ]
    }
   ],
   "source": [
    "# show some predictions\n",
    "predicted_ratings.filter(predicted_ratings.event_type == 1).orderBy(rand()).show(100)"
   ]
  },
  {
   "cell_type": "code",
   "execution_count": 55,
   "id": "practical-optics",
   "metadata": {},
   "outputs": [],
   "source": [
    "# set up evaluator with Root Mean Square Error\n",
    "evaluator=RegressionEvaluator(metricName='rmse',predictionCol='prediction',labelCol='event_type')"
   ]
  },
  {
   "cell_type": "code",
   "execution_count": 56,
   "id": "selected-zoning",
   "metadata": {},
   "outputs": [
    {
     "name": "stdout",
     "output_type": "stream",
     "text": [
      "0.047274201638337454\n"
     ]
    }
   ],
   "source": [
    "rmse=evaluator.evaluate(predicted_ratings)\n",
    "print(rmse)"
   ]
  },
  {
   "cell_type": "code",
   "execution_count": 23,
   "id": "reasonable-reality",
   "metadata": {},
   "outputs": [
    {
     "name": "stdout",
     "output_type": "stream",
     "text": [
      "125057\n"
     ]
    }
   ],
   "source": [
    "# number of unic products as items\n",
    "unique_items=df_data.select('product_id').selectExpr(\"product_id as product_id_1\").distinct()\n",
    "print(unique_items.count())"
   ]
  },
  {
   "cell_type": "code",
   "execution_count": 24,
   "id": "specific-miller",
   "metadata": {},
   "outputs": [],
   "source": [
    "# user id for making recommendations\n",
    "user_id=526731152"
   ]
  },
  {
   "cell_type": "code",
   "execution_count": 25,
   "id": "funded-remainder",
   "metadata": {},
   "outputs": [],
   "source": [
    "# number of products purchased by user\n",
    "purchased_items=df_data.filter(df_data['user_id'] ==  user_id).select('product_id').distinct()  "
   ]
  },
  {
   "cell_type": "code",
   "execution_count": 26,
   "id": "designed-check",
   "metadata": {},
   "outputs": [
    {
     "name": "stdout",
     "output_type": "stream",
     "text": [
      "112\n"
     ]
    }
   ],
   "source": [
    "print(purchased_items.count())"
   ]
  },
  {
   "cell_type": "code",
   "execution_count": 27,
   "id": "massive-village",
   "metadata": {},
   "outputs": [
    {
     "name": "stdout",
     "output_type": "stream",
     "text": [
      "125057\n"
     ]
    }
   ],
   "source": [
    "# join purchaised and all items\n",
    "total_items = unique_items.join(\\\n",
    "                            purchased_items,\\\n",
    "                            unique_items.product_id_1 == purchased_items.product_id,\\\n",
    "                            how='left'\\\n",
    "                            )\n",
    "print(total_items.count())"
   ]
  },
  {
   "cell_type": "code",
   "execution_count": 28,
   "id": "grateful-colon",
   "metadata": {},
   "outputs": [
    {
     "name": "stdout",
     "output_type": "stream",
     "text": [
      "+------------+----------+\n",
      "|product_id_1|product_id|\n",
      "+------------+----------+\n",
      "|1003938     |null      |\n",
      "|1004666     |null      |\n",
      "|1004739     |null      |\n",
      "|1005158     |null      |\n",
      "|1201512     |null      |\n",
      "|1305803     |null      |\n",
      "|1306176     |null      |\n",
      "|1307005     |null      |\n",
      "|1307184     |null      |\n",
      "|1307463     |null      |\n",
      "+------------+----------+\n",
      "only showing top 10 rows\n",
      "\n"
     ]
    }
   ],
   "source": [
    "total_items.show(10,False)"
   ]
  },
  {
   "cell_type": "code",
   "execution_count": 29,
   "id": "introductory-emergency",
   "metadata": {},
   "outputs": [
    {
     "name": "stdout",
     "output_type": "stream",
     "text": [
      "124945\n"
     ]
    }
   ],
   "source": [
    "# select items that user didnt purchaise\n",
    "remaining_items=total_items.where(col(\"product_id\").isNull()).select(unique_items.product_id_1).distinct()\n",
    "print(remaining_items.count())"
   ]
  },
  {
   "cell_type": "code",
   "execution_count": 30,
   "id": "mental-malpractice",
   "metadata": {},
   "outputs": [],
   "source": [
    "# add user_it col\n",
    "remaining_items=remaining_items.withColumn(\"user_id\",lit(int(user_id))).selectExpr(\"product_id_1 as product_id\",\"user_id as user_id\")"
   ]
  },
  {
   "cell_type": "code",
   "execution_count": 31,
   "id": "stupid-virgin",
   "metadata": {},
   "outputs": [
    {
     "name": "stdout",
     "output_type": "stream",
     "text": [
      "+----------+---------+\n",
      "|product_id|user_id  |\n",
      "+----------+---------+\n",
      "|1003938   |526731152|\n",
      "|1004666   |526731152|\n",
      "|1004739   |526731152|\n",
      "|1005158   |526731152|\n",
      "|1201512   |526731152|\n",
      "|1305803   |526731152|\n",
      "|1306176   |526731152|\n",
      "|1307005   |526731152|\n",
      "|1307184   |526731152|\n",
      "|1307463   |526731152|\n",
      "+----------+---------+\n",
      "only showing top 10 rows\n",
      "\n"
     ]
    }
   ],
   "source": [
    "remaining_items.show(10,False)"
   ]
  },
  {
   "cell_type": "code",
   "execution_count": 32,
   "id": "identified-cruise",
   "metadata": {},
   "outputs": [],
   "source": [
    "# get the predictions\n",
    "predictions = recomend_model.transform(remaining_items).collect()"
   ]
  },
  {
   "cell_type": "code",
   "execution_count": 33,
   "id": "incident-saskatchewan",
   "metadata": {},
   "outputs": [],
   "source": [
    "recommendations=recomend_model.transform(remaining_items).orderBy('prediction',ascending=False)"
   ]
  },
  {
   "cell_type": "code",
   "execution_count": null,
   "id": "orange-isaac",
   "metadata": {},
   "outputs": [],
   "source": []
  }
 ],
 "metadata": {
  "kernelspec": {
   "display_name": "PySpark",
   "language": "python",
   "name": "pyspark"
  },
  "language_info": {
   "codemirror_mode": {
    "name": "ipython",
    "version": 3
   },
   "file_extension": ".py",
   "mimetype": "text/x-python",
   "name": "python",
   "nbconvert_exporter": "python",
   "pygments_lexer": "ipython3",
   "version": "3.8.5"
  }
 },
 "nbformat": 4,
 "nbformat_minor": 5
}
