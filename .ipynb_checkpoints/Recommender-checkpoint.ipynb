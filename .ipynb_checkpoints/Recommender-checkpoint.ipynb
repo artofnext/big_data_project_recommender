{
 "cells": [
  {
   "cell_type": "code",
   "execution_count": 14,
   "id": "marked-logic",
   "metadata": {},
   "outputs": [],
   "source": [
    "from pyspark.sql.functions import rand\n",
    "from pyspark.ml.feature import StringIndexer, IndexToString\n",
    "from pyspark.ml.recommendation import ALS\n",
    "from pyspark.ml.evaluation import RegressionEvaluator\n",
    "from pyspark.sql.functions import col, lit\n",
    "from pyspark.sql.types import StructType, StructField, StringType, IntegerType, LongType, DoubleType, TimestampType"
   ]
  },
  {
   "cell_type": "code",
   "execution_count": 2,
   "id": "literary-pastor",
   "metadata": {},
   "outputs": [
    {
     "name": "stdout",
     "output_type": "stream",
     "text": [
      "total 1115084\r\n",
      "drwxrwxr-x  4 big big      4096 May 12 09:29 .\r\n",
      "drwxr-xr-x 32 big big      4096 May 11 22:33 ..\r\n",
      "drwxrwxr-x  8 big big      4096 May 11 22:33 .git\r\n",
      "-rw-rw-r--  1 big big         6 May  8 20:47 .gitignore\r\n",
      "drwxrwxr-x  2 big big      4096 May 11 21:44 .ipynb_checkpoints\r\n",
      "-rw-rw-r--  1 big big 570895494 May  8 17:13 local_part.csv\r\n",
      "-rw-r--r--  1 big big 171002105 May 11 21:13 local_test.csv\r\n",
      "-rw-r--r--  1 big big 399893389 May 11 21:13 local_train.csv\r\n",
      "-rw-rw-r--  1 big big      3714 May 11 22:18 Preare_data.ipynb\r\n",
      "-rw-rw-r--  1 big big      8955 May 12 09:29 Recommender.ipynb\r\n"
     ]
    }
   ],
   "source": [
    "! ls -la"
   ]
  },
  {
   "cell_type": "code",
   "execution_count": null,
   "id": "abroad-paradise",
   "metadata": {},
   "outputs": [],
   "source": [
    "__all__ = [\n",
    "    \"DataType\", \"NullType\", \"StringType\", \"BinaryType\", \"BooleanType\", \"DateType\",\n",
    "    \"TimestampType\", \"DecimalType\", \"DoubleType\", \"FloatType\", \"ByteType\", \"IntegerType\",\n",
    "    \"LongType\", \"ShortType\", \"ArrayType\", \"MapType\", \"StructField\", \"StructType\"]"
   ]
  },
  {
   "cell_type": "code",
   "execution_count": 15,
   "id": "functioning-quick",
   "metadata": {},
   "outputs": [],
   "source": [
    "schema = StructType([ \\\n",
    "    StructField(\"event_time\",TimestampType(),True),\\\n",
    "    StructField(\"event_type\",StringType(),True),\\\n",
    "    StructField(\"product_id\",IntegerType(),True),\\\n",
    "    StructField(\"category_id\", LongType(), True),\\\n",
    "    StructField(\"category_code\", StringType(), True),\\\n",
    "    StructField(\"brand\", StringType(), True),\\\n",
    "    StructField(\"price\", DoubleType(), True),\\\n",
    "    StructField(\"user_id\", IntegerType(), True),\\\n",
    "    StructField(\"user_session\", StringType(), True),\\\n",
    "  ])"
   ]
  },
  {
   "cell_type": "code",
   "execution_count": 16,
   "id": "continuing-battlefield",
   "metadata": {},
   "outputs": [],
   "source": [
    "df=spark.read.csv('local_train.csv', schema=schema, inferSchema=True) # Read the dataset"
   ]
  },
  {
   "cell_type": "code",
   "execution_count": null,
   "id": "stable-venue",
   "metadata": {},
   "outputs": [],
   "source": []
  },
  {
   "cell_type": "code",
   "execution_count": 17,
   "id": "celtic-timeline",
   "metadata": {},
   "outputs": [
    {
     "name": "stdout",
     "output_type": "stream",
     "text": [
      "root\n",
      " |-- event_time: timestamp (nullable = true)\n",
      " |-- event_type: string (nullable = true)\n",
      " |-- product_id: integer (nullable = true)\n",
      " |-- category_id: long (nullable = true)\n",
      " |-- category_code: string (nullable = true)\n",
      " |-- brand: string (nullable = true)\n",
      " |-- price: double (nullable = true)\n",
      " |-- user_id: integer (nullable = true)\n",
      " |-- user_session: string (nullable = true)\n",
      "\n"
     ]
    }
   ],
   "source": [
    "df.printSchema()"
   ]
  },
  {
   "cell_type": "code",
   "execution_count": 18,
   "id": "recorded-salad",
   "metadata": {},
   "outputs": [
    {
     "name": "stdout",
     "output_type": "stream",
     "text": [
      "+-------------------+----------+----------+-------------------+--------------------+---------+------+---------+--------------------+\n",
      "|         event_time|event_type|product_id|        category_id|       category_code|    brand| price|  user_id|        user_session|\n",
      "+-------------------+----------+----------+-------------------+--------------------+---------+------+---------+--------------------+\n",
      "|2019-10-01 01:00:01|      view|   1307067|2053013558920217191|  computers.notebook|   lenovo|251.74|550050854|7c90fc70-0e80-459...|\n",
      "|2019-10-01 01:00:20|      view|   1003306|2053013555631882655|electronics.smart...|    apple|588.77|555446831|6ec635da-ea15-4a5...|\n",
      "|2019-10-01 01:00:25|      view|  27500014|2053013554692358509|                null|  redmond| 37.98|555217733|74d40a28-41f9-432...|\n",
      "|2019-10-01 01:00:36|      view|  12712064|2053013553559896355|                null| triangle| 30.89|515454339|828dbd8e-8683-409...|\n",
      "|2019-10-01 01:00:41|      view|   1003141|2053013555631882655|electronics.smart...|    apple|382.97|551377651|ca11a570-47da-463...|\n",
      "|2019-10-01 01:00:46|      view|   4100126|2053013561218695907|                null|     sony|326.62|519885473|b70cb218-db90-401...|\n",
      "|2019-10-01 01:00:50|      view|  28717211|2053013565882762215|                null|  respect| 76.96|555447577|4337a670-6520-415...|\n",
      "|2019-10-01 01:01:08|      view|   1004659|2053013555631882655|electronics.smart...|  samsung|787.18|512558158|9a206ba2-37c7-435...|\n",
      "|2019-10-01 01:01:28|      view|   4300070|2053013552385491165|                null|  timberk| 38.59|544648245|bb8e28c8-d11f-428...|\n",
      "|2019-10-01 01:01:42|      view|   1004792|2053013555631882655|electronics.smart...|   xiaomi|456.45|513457407|d6f9a1f2-f96f-422...|\n",
      "|2019-10-01 01:01:42|      view|   1306631|2053013558920217191|  computers.notebook|       hp|580.89|550050854|7c90fc70-0e80-459...|\n",
      "|2019-10-01 01:01:44|      view|   1004321|2053013555631882655|electronics.smart...|   huawei|243.25|514336739|cccc58c1-4986-4d0...|\n",
      "|2019-10-01 01:01:58|      view|   4100274|2053013561218695907|                null|microsoft| 275.4|519885473|b70cb218-db90-401...|\n",
      "|2019-10-01 01:01:59|      view|   1004792|2053013555631882655|electronics.smart...|   xiaomi|456.45|516896785|4263d574-0b40-416...|\n",
      "|2019-10-01 01:02:05|      view|  26201000|2053013563693335403|                null|  lucente|106.31|555447748|b50d1ae8-1948-451...|\n",
      "|2019-10-01 01:02:23|      view|  26201858|2053013563693335403|                null|     null|235.01|548449430|99617d1c-1b5a-42f...|\n",
      "|2019-10-01 01:02:27|      view|  13100083|2053013553526341921|                null|     skad|223.94|518553316|e056d030-e659-461...|\n",
      "|2019-10-01 01:02:33|      view|  50600002|2134905044833666047|auto.accessories....|     null| 89.81|514933060|2f36c9e1-b1e1-4b5...|\n",
      "|2019-10-01 01:03:02|      view|   1004856|2053013555631882655|electronics.smart...|  samsung|130.76|543272936|8187d148-3c41-46d...|\n",
      "|2019-10-01 01:03:05|      view|  28718079|2053013565362668491|  apparel.shoes.keds|  respect| 66.67|545323115|75fb5d0c-e907-429...|\n",
      "+-------------------+----------+----------+-------------------+--------------------+---------+------+---------+--------------------+\n",
      "only showing top 20 rows\n",
      "\n"
     ]
    }
   ],
   "source": [
    "df.show()"
   ]
  },
  {
   "cell_type": "code",
   "execution_count": 19,
   "id": "talented-buyer",
   "metadata": {},
   "outputs": [
    {
     "ename": "AnalysisException",
     "evalue": "cannot resolve '`iser_id`' given input columns: [brand, category_code, category_id, event_time, event_type, price, product_id, user_id, user_session];;\n'Aggregate ['iser_id], ['iser_id, count(1) AS count#172L]\n+- Relation[event_time#98,event_type#99,product_id#100,category_id#101L,category_code#102,brand#103,price#104,user_id#105,user_session#106] csv\n",
     "output_type": "error",
     "traceback": [
      "\u001b[0;31m---------------------------------------------------------------------------\u001b[0m",
      "\u001b[0;31mAnalysisException\u001b[0m                         Traceback (most recent call last)",
      "\u001b[0;32m<ipython-input-19-d5cae1f7f930>\u001b[0m in \u001b[0;36m<module>\u001b[0;34m\u001b[0m\n\u001b[1;32m      1\u001b[0m \u001b[0;31m# Users actions\u001b[0m\u001b[0;34m\u001b[0m\u001b[0;34m\u001b[0m\u001b[0;34m\u001b[0m\u001b[0m\n\u001b[0;32m----> 2\u001b[0;31m \u001b[0mdf\u001b[0m\u001b[0;34m.\u001b[0m\u001b[0mgroupBy\u001b[0m\u001b[0;34m(\u001b[0m\u001b[0;34m'iser_id'\u001b[0m\u001b[0;34m)\u001b[0m\u001b[0;34m.\u001b[0m\u001b[0mcount\u001b[0m\u001b[0;34m(\u001b[0m\u001b[0;34m)\u001b[0m\u001b[0;34m.\u001b[0m\u001b[0morderBy\u001b[0m\u001b[0;34m(\u001b[0m\u001b[0;34m'count'\u001b[0m\u001b[0;34m,\u001b[0m\u001b[0mascending\u001b[0m\u001b[0;34m=\u001b[0m\u001b[0;32mFalse\u001b[0m\u001b[0;34m)\u001b[0m\u001b[0;34m.\u001b[0m\u001b[0mshow\u001b[0m\u001b[0;34m(\u001b[0m\u001b[0;36m10\u001b[0m\u001b[0;34m,\u001b[0m\u001b[0;32mFalse\u001b[0m\u001b[0;34m)\u001b[0m\u001b[0;34m\u001b[0m\u001b[0;34m\u001b[0m\u001b[0m\n\u001b[0m",
      "\u001b[0;32m/opt/spark/python/pyspark/sql/group.py\u001b[0m in \u001b[0;36m_api\u001b[0;34m(self)\u001b[0m\n\u001b[1;32m     31\u001b[0m     \u001b[0;32mdef\u001b[0m \u001b[0m_api\u001b[0m\u001b[0;34m(\u001b[0m\u001b[0mself\u001b[0m\u001b[0;34m)\u001b[0m\u001b[0;34m:\u001b[0m\u001b[0;34m\u001b[0m\u001b[0;34m\u001b[0m\u001b[0m\n\u001b[1;32m     32\u001b[0m         \u001b[0mname\u001b[0m \u001b[0;34m=\u001b[0m \u001b[0mf\u001b[0m\u001b[0;34m.\u001b[0m\u001b[0m__name__\u001b[0m\u001b[0;34m\u001b[0m\u001b[0;34m\u001b[0m\u001b[0m\n\u001b[0;32m---> 33\u001b[0;31m         \u001b[0mjdf\u001b[0m \u001b[0;34m=\u001b[0m \u001b[0mgetattr\u001b[0m\u001b[0;34m(\u001b[0m\u001b[0mself\u001b[0m\u001b[0;34m.\u001b[0m\u001b[0m_jgd\u001b[0m\u001b[0;34m,\u001b[0m \u001b[0mname\u001b[0m\u001b[0;34m)\u001b[0m\u001b[0;34m(\u001b[0m\u001b[0;34m)\u001b[0m\u001b[0;34m\u001b[0m\u001b[0;34m\u001b[0m\u001b[0m\n\u001b[0m\u001b[1;32m     34\u001b[0m         \u001b[0;32mreturn\u001b[0m \u001b[0mDataFrame\u001b[0m\u001b[0;34m(\u001b[0m\u001b[0mjdf\u001b[0m\u001b[0;34m,\u001b[0m \u001b[0mself\u001b[0m\u001b[0;34m.\u001b[0m\u001b[0msql_ctx\u001b[0m\u001b[0;34m)\u001b[0m\u001b[0;34m\u001b[0m\u001b[0;34m\u001b[0m\u001b[0m\n\u001b[1;32m     35\u001b[0m     \u001b[0m_api\u001b[0m\u001b[0;34m.\u001b[0m\u001b[0m__name__\u001b[0m \u001b[0;34m=\u001b[0m \u001b[0mf\u001b[0m\u001b[0;34m.\u001b[0m\u001b[0m__name__\u001b[0m\u001b[0;34m\u001b[0m\u001b[0;34m\u001b[0m\u001b[0m\n",
      "\u001b[0;32m/opt/spark/python/lib/py4j-0.10.9-src.zip/py4j/java_gateway.py\u001b[0m in \u001b[0;36m__call__\u001b[0;34m(self, *args)\u001b[0m\n\u001b[1;32m   1302\u001b[0m \u001b[0;34m\u001b[0m\u001b[0m\n\u001b[1;32m   1303\u001b[0m         \u001b[0manswer\u001b[0m \u001b[0;34m=\u001b[0m \u001b[0mself\u001b[0m\u001b[0;34m.\u001b[0m\u001b[0mgateway_client\u001b[0m\u001b[0;34m.\u001b[0m\u001b[0msend_command\u001b[0m\u001b[0;34m(\u001b[0m\u001b[0mcommand\u001b[0m\u001b[0;34m)\u001b[0m\u001b[0;34m\u001b[0m\u001b[0;34m\u001b[0m\u001b[0m\n\u001b[0;32m-> 1304\u001b[0;31m         return_value = get_return_value(\n\u001b[0m\u001b[1;32m   1305\u001b[0m             answer, self.gateway_client, self.target_id, self.name)\n\u001b[1;32m   1306\u001b[0m \u001b[0;34m\u001b[0m\u001b[0m\n",
      "\u001b[0;32m/opt/spark/python/pyspark/sql/utils.py\u001b[0m in \u001b[0;36mdeco\u001b[0;34m(*a, **kw)\u001b[0m\n\u001b[1;32m    132\u001b[0m                 \u001b[0;31m# Hide where the exception came from that shows a non-Pythonic\u001b[0m\u001b[0;34m\u001b[0m\u001b[0;34m\u001b[0m\u001b[0;34m\u001b[0m\u001b[0m\n\u001b[1;32m    133\u001b[0m                 \u001b[0;31m# JVM exception message.\u001b[0m\u001b[0;34m\u001b[0m\u001b[0;34m\u001b[0m\u001b[0;34m\u001b[0m\u001b[0m\n\u001b[0;32m--> 134\u001b[0;31m                 \u001b[0mraise_from\u001b[0m\u001b[0;34m(\u001b[0m\u001b[0mconverted\u001b[0m\u001b[0;34m)\u001b[0m\u001b[0;34m\u001b[0m\u001b[0;34m\u001b[0m\u001b[0m\n\u001b[0m\u001b[1;32m    135\u001b[0m             \u001b[0;32melse\u001b[0m\u001b[0;34m:\u001b[0m\u001b[0;34m\u001b[0m\u001b[0;34m\u001b[0m\u001b[0m\n\u001b[1;32m    136\u001b[0m                 \u001b[0;32mraise\u001b[0m\u001b[0;34m\u001b[0m\u001b[0;34m\u001b[0m\u001b[0m\n",
      "\u001b[0;32m/opt/spark/python/pyspark/sql/utils.py\u001b[0m in \u001b[0;36mraise_from\u001b[0;34m(e)\u001b[0m\n",
      "\u001b[0;31mAnalysisException\u001b[0m: cannot resolve '`iser_id`' given input columns: [brand, category_code, category_id, event_time, event_type, price, product_id, user_id, user_session];;\n'Aggregate ['iser_id], ['iser_id, count(1) AS count#172L]\n+- Relation[event_time#98,event_type#99,product_id#100,category_id#101L,category_code#102,brand#103,price#104,user_id#105,user_session#106] csv\n"
     ]
    }
   ],
   "source": [
    "# Users actions\n",
    "df.groupBy('user_id').count().orderBy('count',ascending=False).show(10,False)"
   ]
  },
  {
   "cell_type": "code",
   "execution_count": 10,
   "id": "smoking-syndication",
   "metadata": {},
   "outputs": [
    {
     "name": "stdout",
     "output_type": "stream",
     "text": [
      "+-------+------+\n",
      "|_c5    |count |\n",
      "+-------+------+\n",
      "|null   |427856|\n",
      "|samsung|369262|\n",
      "|apple  |288448|\n",
      "|xiaomi |216395|\n",
      "|huawei |77701 |\n",
      "|lucente|46132 |\n",
      "|lg     |39563 |\n",
      "|bosch  |39530 |\n",
      "|oppo   |33985 |\n",
      "|sony   |31908 |\n",
      "+-------+------+\n",
      "only showing top 10 rows\n",
      "\n"
     ]
    }
   ],
   "source": [
    "# brands actions\n",
    "df.groupBy('_c5').count().orderBy('count',ascending=False).show(10,False)"
   ]
  },
  {
   "cell_type": "code",
   "execution_count": null,
   "id": "supposed-governor",
   "metadata": {},
   "outputs": [],
   "source": []
  }
 ],
 "metadata": {
  "kernelspec": {
   "display_name": "PySpark",
   "language": "python",
   "name": "pyspark"
  },
  "language_info": {
   "codemirror_mode": {
    "name": "ipython",
    "version": 3
   },
   "file_extension": ".py",
   "mimetype": "text/x-python",
   "name": "python",
   "nbconvert_exporter": "python",
   "pygments_lexer": "ipython3",
   "version": "3.8.5"
  }
 },
 "nbformat": 4,
 "nbformat_minor": 5
}
